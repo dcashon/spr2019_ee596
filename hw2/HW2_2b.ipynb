{
 "cells": [
  {
   "cell_type": "code",
   "execution_count": 1,
   "metadata": {
    "ExecuteTime": {
     "end_time": "2019-04-27T01:19:12.823621Z",
     "start_time": "2019-04-27T01:19:10.565767Z"
    }
   },
   "outputs": [],
   "source": [
    "import tensorflow as tf\n",
    "import pickle\n",
    "import numpy as np\n",
    "import timeit\n",
    "import load_cifar\n",
    "\n",
    "# D. Cashon\n",
    "# 2019 04 26\n",
    "# implementing tensorflow dense NN for \n",
    "# CIFAR 10 classification\n",
    "# docs say to use keras API but will use tf.nn"
   ]
  },
  {
   "cell_type": "code",
   "execution_count": 2,
   "metadata": {
    "ExecuteTime": {
     "end_time": "2019-04-27T01:19:13.002821Z",
     "start_time": "2019-04-27T01:19:12.823621Z"
    }
   },
   "outputs": [],
   "source": [
    "tf.reset_default_graph()\n",
    "# also get validation and test\n",
    "val_data, val_labels = load_cifar.load_preprocessed_validation_batch()"
   ]
  },
  {
   "cell_type": "markdown",
   "metadata": {},
   "source": [
    "<h1>Define Hyper-perparmeter</h1>"
   ]
  },
  {
   "cell_type": "code",
   "execution_count": 3,
   "metadata": {
    "ExecuteTime": {
     "end_time": "2019-04-27T01:19:13.022957Z",
     "start_time": "2019-04-27T01:19:13.005833Z"
    }
   },
   "outputs": [],
   "source": [
    "lr = 0.01\n",
    "num_epochs = 10\n",
    "batch_size = 128"
   ]
  },
  {
   "cell_type": "markdown",
   "metadata": {},
   "source": [
    "<h1>Define Placeholder</h1>"
   ]
  },
  {
   "cell_type": "code",
   "execution_count": 4,
   "metadata": {
    "ExecuteTime": {
     "end_time": "2019-04-27T01:19:13.082832Z",
     "start_time": "2019-04-27T01:19:13.026969Z"
    }
   },
   "outputs": [],
   "source": [
    "# for feeding the minibatches\n",
    "x_data = tf.placeholder(tf.float32, shape=[None, 3072])\n",
    "y_labels = tf.placeholder(tf.float32, shape=[None, 10])"
   ]
  },
  {
   "cell_type": "markdown",
   "metadata": {},
   "source": [
    "<h1>Define Neural Network Architecture</h1>"
   ]
  },
  {
   "cell_type": "code",
   "execution_count": 5,
   "metadata": {
    "ExecuteTime": {
     "end_time": "2019-04-27T01:19:13.262975Z",
     "start_time": "2019-04-27T01:19:13.082832Z"
    }
   },
   "outputs": [
    {
     "name": "stdout",
     "output_type": "stream",
     "text": [
      "WARNING:tensorflow:From <ipython-input-5-a0cd0dc40be9>:2: dense (from tensorflow.python.layers.core) is deprecated and will be removed in a future version.\n",
      "Instructions for updating:\n",
      "Use keras.layers.dense instead.\n",
      "WARNING:tensorflow:From C:\\Users\\dcash\\Anaconda3\\envs\\neural_nets\\lib\\site-packages\\tensorflow\\python\\framework\\op_def_library.py:263: colocate_with (from tensorflow.python.framework.ops) is deprecated and will be removed in a future version.\n",
      "Instructions for updating:\n",
      "Colocations handled automatically by placer.\n"
     ]
    }
   ],
   "source": [
    "# tried stuff, this seems to work OK\n",
    "lay1 = tf.layers.dense(x_data, 128, activation=tf.nn.relu)\n",
    "lay2 = tf.layers.dense(lay1, 256, activation=tf.nn.relu)\n",
    "lay3 = tf.layers.dense(lay2, 512, activation=tf.nn.relu)\n",
    "# output layer\n",
    "output = tf.layers.dense(lay2, 10, activation=None)"
   ]
  },
  {
   "cell_type": "markdown",
   "metadata": {},
   "source": [
    "<h1>Define cost and optimization</h1>"
   ]
  },
  {
   "cell_type": "code",
   "execution_count": 6,
   "metadata": {
    "ExecuteTime": {
     "end_time": "2019-04-27T01:19:13.738022Z",
     "start_time": "2019-04-27T01:19:13.266986Z"
    }
   },
   "outputs": [],
   "source": [
    "cost = tf.reduce_mean(tf.nn.softmax_cross_entropy_with_logits_v2(labels=y_labels, logits=output))\n",
    "opt = tf.train.AdamOptimizer()\n",
    "to_minimize = opt.minimize(cost)\n",
    "\n",
    "# compare prediction accuracy \n",
    "correct_pred = tf.equal(tf.argmax(tf.nn.softmax(output),1),tf.argmax(y_labels,1))\n",
    "accuracy = tf.reduce_mean(tf.cast(correct_pred,tf.float32),name='accuracy')\n"
   ]
  },
  {
   "cell_type": "markdown",
   "metadata": {},
   "source": [
    "<h1>Training and testing</h1>\n",
    "<h2>1.Print out validation accuracy after each training poch</h2>\n",
    "<h2>2.Print out training time you spend on each epoch</h2>\n",
    "<h2>3.Print out testing accuracy in the end</h2>"
   ]
  },
  {
   "cell_type": "code",
   "execution_count": 7,
   "metadata": {
    "ExecuteTime": {
     "end_time": "2019-04-27T01:20:06.221802Z",
     "start_time": "2019-04-27T01:19:14.613203Z"
    },
    "scrolled": false
   },
   "outputs": [
    {
     "name": "stdout",
     "output_type": "stream",
     "text": [
      "Training for Epoch: \t0\n",
      "Training for Batch: \t1\n",
      "Training for Batch: \t2\n",
      "Training for Batch: \t3\n",
      "Training for Batch: \t4\n",
      "Training for Batch: \t5\n",
      "Current Loss is : \t\n",
      "1.7672089\n",
      "Current minibatch accuracy is: \t\n",
      "0.359375\n",
      "Current validation set accuracy is: \t\n",
      "0.3742\n",
      "Training for Epoch: \t1\n",
      "Training for Batch: \t1\n",
      "Training for Batch: \t2\n",
      "Training for Batch: \t3\n",
      "Training for Batch: \t4\n",
      "Training for Batch: \t5\n",
      "Current Loss is : \t\n",
      "1.6850379\n",
      "Current minibatch accuracy is: \t\n",
      "0.375\n",
      "Current validation set accuracy is: \t\n",
      "0.4016\n",
      "Training for Epoch: \t2\n",
      "Training for Batch: \t1\n",
      "Training for Batch: \t2\n",
      "Training for Batch: \t3\n",
      "Training for Batch: \t4\n",
      "Training for Batch: \t5\n",
      "Current Loss is : \t\n",
      "1.8098443\n",
      "Current minibatch accuracy is: \t\n",
      "0.3515625\n",
      "Current validation set accuracy is: \t\n",
      "0.4206\n",
      "Training for Epoch: \t3\n",
      "Training for Batch: \t1\n",
      "Training for Batch: \t2\n",
      "Training for Batch: \t3\n",
      "Training for Batch: \t4\n",
      "Training for Batch: \t5\n",
      "Current Loss is : \t\n",
      "1.5892084\n",
      "Current minibatch accuracy is: \t\n",
      "0.4296875\n",
      "Current validation set accuracy is: \t\n",
      "0.4422\n",
      "Training for Epoch: \t4\n",
      "Training for Batch: \t1\n",
      "Training for Batch: \t2\n",
      "Training for Batch: \t3\n",
      "Training for Batch: \t4\n",
      "Training for Batch: \t5\n",
      "Current Loss is : \t\n",
      "1.5656812\n",
      "Current minibatch accuracy is: \t\n",
      "0.4765625\n",
      "Current validation set accuracy is: \t\n",
      "0.4496\n",
      "Training for Epoch: \t5\n",
      "Training for Batch: \t1\n",
      "Training for Batch: \t2\n",
      "Training for Batch: \t3\n",
      "Training for Batch: \t4\n",
      "Training for Batch: \t5\n",
      "Current Loss is : \t\n",
      "1.3090508\n",
      "Current minibatch accuracy is: \t\n",
      "0.578125\n",
      "Current validation set accuracy is: \t\n",
      "0.452\n",
      "Training for Epoch: \t6\n",
      "Training for Batch: \t1\n",
      "Training for Batch: \t2\n",
      "Training for Batch: \t3\n",
      "Training for Batch: \t4\n",
      "Training for Batch: \t5\n",
      "Current Loss is : \t\n",
      "1.452399\n",
      "Current minibatch accuracy is: \t\n",
      "0.4765625\n",
      "Current validation set accuracy is: \t\n",
      "0.4666\n",
      "Training for Epoch: \t7\n",
      "Training for Batch: \t1\n",
      "Training for Batch: \t2\n",
      "Training for Batch: \t3\n",
      "Training for Batch: \t4\n",
      "Training for Batch: \t5\n",
      "Current Loss is : \t\n",
      "1.4518797\n",
      "Current minibatch accuracy is: \t\n",
      "0.5390625\n",
      "Current validation set accuracy is: \t\n",
      "0.4554\n",
      "Training for Epoch: \t8\n",
      "Training for Batch: \t1\n",
      "Training for Batch: \t2\n",
      "Training for Batch: \t3\n",
      "Training for Batch: \t4\n",
      "Training for Batch: \t5\n",
      "Current Loss is : \t\n",
      "1.4361882\n",
      "Current minibatch accuracy is: \t\n",
      "0.515625\n",
      "Current validation set accuracy is: \t\n",
      "0.469\n",
      "Training for Epoch: \t9\n",
      "Training for Batch: \t1\n",
      "Training for Batch: \t2\n",
      "Training for Batch: \t3\n",
      "Training for Batch: \t4\n",
      "Training for Batch: \t5\n",
      "Current Loss is : \t\n",
      "1.3897114\n",
      "Current minibatch accuracy is: \t\n",
      "0.4453125\n",
      "Current validation set accuracy is: \t\n",
      "0.4704\n"
     ]
    }
   ],
   "source": [
    "# seems OK. Will run on Google Cloud for later\n",
    "init = tf.global_variables_initializer()\n",
    "with tf.Session() as sess:\n",
    "    sess.run(init)\n",
    "    for i in range(num_epochs):\n",
    "        print('Training for Epoch: \\t' + str(i))\n",
    "        batch_num = 1\n",
    "        while batch_num < 6:\n",
    "            print('Training for Batch: \\t' + str(batch_num))\n",
    "            training_data = load_cifar.load_preprocessed_training_batch(batch_num, batch_size)\n",
    "            for data, labels in training_data:\n",
    "                f_dict = {x_data: data, y_labels: labels}\n",
    "                sess.run(to_minimize, feed_dict=f_dict)\n",
    "            batch_num += 1\n",
    "        print('Current Loss is : \\t')\n",
    "        current_loss = sess.run(cost, feed_dict=f_dict)\n",
    "        print(current_loss)\n",
    "        print('Current minibatch accuracy is: \\t')\n",
    "        current_acc = sess.run(accuracy, feed_dict=f_dict)\n",
    "        print(current_acc)\n",
    "        print('Current validation set accuracy is: \\t')\n",
    "        val_acc = sess.run(accuracy, feed_dict={x_data:val_data, y_labels:val_labels})\n",
    "        print(val_acc)"
   ]
  },
  {
   "cell_type": "code",
   "execution_count": 8,
   "metadata": {
    "ExecuteTime": {
     "end_time": "2019-04-27T01:13:31.565563Z",
     "start_time": "2019-04-27T01:13:31.082966Z"
    }
   },
   "outputs": [
    {
     "name": "stdout",
     "output_type": "stream",
     "text": [
      "[ 504 3182 8269 6697  922]\n"
     ]
    }
   ],
   "source": [
    "yolo = load_cifar.load_preprocessed_training_batch(1,128)\n"
   ]
  },
  {
   "cell_type": "code",
   "execution_count": 4,
   "metadata": {
    "ExecuteTime": {
     "end_time": "2019-04-27T00:38:47.138481Z",
     "start_time": "2019-04-27T00:38:47.105393Z"
    }
   },
   "outputs": [
    {
     "data": {
      "text/plain": [
       "8960"
      ]
     },
     "execution_count": 4,
     "metadata": {},
     "output_type": "execute_result"
    }
   ],
   "source": []
  },
  {
   "cell_type": "code",
   "execution_count": null,
   "metadata": {},
   "outputs": [],
   "source": []
  }
 ],
 "metadata": {
  "kernelspec": {
   "display_name": "Python 3",
   "language": "python",
   "name": "python3"
  },
  "language_info": {
   "codemirror_mode": {
    "name": "ipython",
    "version": 3
   },
   "file_extension": ".py",
   "mimetype": "text/x-python",
   "name": "python",
   "nbconvert_exporter": "python",
   "pygments_lexer": "ipython3",
   "version": "3.6.8"
  }
 },
 "nbformat": 4,
 "nbformat_minor": 2
}
