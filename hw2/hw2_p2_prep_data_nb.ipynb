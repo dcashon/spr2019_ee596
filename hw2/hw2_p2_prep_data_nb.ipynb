{
 "cells": [
  {
   "cell_type": "code",
   "execution_count": 1,
   "metadata": {
    "ExecuteTime": {
     "end_time": "2019-04-24T15:56:14.418426Z",
     "start_time": "2019-04-24T15:56:14.403150Z"
    }
   },
   "outputs": [],
   "source": [
    "# D. Cashon\n",
    "# 2019 04 24\n",
    "# Part A, HW2"
   ]
  },
  {
   "cell_type": "markdown",
   "metadata": {},
   "source": [
    "## Notes (for personal ref)\n",
    "### Min - Max Normalization\n",
    "Maps dataset values to [0, 1]\n",
    "\n",
    "Here, we normalize the data features, which amounts to the columns of X"
   ]
  },
  {
   "cell_type": "code",
   "execution_count": 3,
   "metadata": {
    "ExecuteTime": {
     "end_time": "2019-04-26T16:07:35.108649Z",
     "start_time": "2019-04-26T16:07:35.093039Z"
    }
   },
   "outputs": [],
   "source": [
    "import os\n",
    "from pathlib import Path\n",
    "import pickle\n",
    "import numpy as np\n",
    "# get the data paths\n",
    "working_dir = Path(\"C:/Users/dcash/Documents/ee596/spr2019_ee596/hw2\")\n",
    "data_path = working_dir / \"data/cifar-10-batches-py\""
   ]
  },
  {
   "cell_type": "code",
   "execution_count": 4,
   "metadata": {
    "ExecuteTime": {
     "end_time": "2019-04-26T16:58:57.521385Z",
     "start_time": "2019-04-26T16:58:57.490526Z"
    }
   },
   "outputs": [],
   "source": [
    "# ALL FUNCTIONS\n",
    "def unpickle(file):\n",
    "    with open(file, 'rb') as fo:\n",
    "        d1 = pickle.load(fo, encoding='utf8')\n",
    "    return d1"
   ]
  },
  {
   "cell_type": "code",
   "execution_count": 62,
   "metadata": {
    "ExecuteTime": {
     "end_time": "2019-04-24T16:26:57.118806Z",
     "start_time": "2019-04-24T16:26:55.008809Z"
    }
   },
   "outputs": [],
   "source": [
    "# get paths to the 5 training and 1 test set\n",
    "all_data = []\n",
    "for i in os.listdir(data_path):\n",
    "    if 'batch_' in str(i) or 'test_' in str(i):\n",
    "        all_data.append(data_path / i)\n",
    "\n",
    "# load all the data into np array\n",
    "train_data, train_labels = [], []\n",
    "for paths in all_data:\n",
    "    temp = unpickle(paths)\n",
    "    if 'batch_' in str(paths):\n",
    "        train_data.append(temp[b'data'])\n",
    "        train_labels.append(temp[b'labels'])\n",
    "    elif 'test' in str(paths):\n",
    "        test_data_np = temp[b'data']\n",
    "        test_labels_np = temp[b'labels']\n",
    "train_data_np = np.concatenate(train_data)\n",
    "train_labels_np = np.concatenate(train_labels)\n",
    "\n",
    "# perform min-max normalization of features (columns)\n",
    "# train\n",
    "train_max = np.max(train_data_np, axis=0)\n",
    "train_min = np.min(train_data_np, axis=0)\n",
    "train_data_np_norm = (train_data_np - train_min) / (train_max - train_min)\n",
    "# test\n",
    "test_max = np.max(test_data_np, axis=0)\n",
    "test_min = np.min(test_data_np, axis=0)\n",
    "test_data_np_norm = (test_data_np - test_min) / (test_max - test_min)\n",
    "\n",
    "# perform 1-hot encoding of all labels\n",
    "# labels in [0, 9] => 10 element vectors\n",
    "train_hot_labels = np.zeros((50000, 10))\n",
    "for i, labels in enumerate(train_labels_np):\n",
    "    train_hot_labels[i, labels] = 1\n",
    "test_hot_labels = np.zeros((10000, 10))\n",
    "for i, labels in enumerate(test_labels_np):\n",
    "    test_hot_labels[i, labels] = 1"
   ]
  },
  {
   "cell_type": "code",
   "execution_count": 68,
   "metadata": {
    "ExecuteTime": {
     "end_time": "2019-04-24T17:33:03.704386Z",
     "start_time": "2019-04-24T17:33:03.602615Z"
    }
   },
   "outputs": [],
   "source": [
    "yolo = unpickle(all_data[1])"
   ]
  },
  {
   "cell_type": "code",
   "execution_count": 72,
   "metadata": {
    "ExecuteTime": {
     "end_time": "2019-04-24T17:33:45.071164Z",
     "start_time": "2019-04-24T17:33:45.051415Z"
    }
   },
   "outputs": [
    {
     "data": {
      "text/plain": [
       "dict_keys([b'batch_label', b'labels', b'data', b'filenames'])"
      ]
     },
     "execution_count": 72,
     "metadata": {},
     "output_type": "execute_result"
    }
   ],
   "source": [
    "yolo.keys()"
   ]
  },
  {
   "cell_type": "code",
   "execution_count": 79,
   "metadata": {
    "ExecuteTime": {
     "end_time": "2019-04-24T17:36:49.605045Z",
     "start_time": "2019-04-24T17:36:49.595642Z"
    }
   },
   "outputs": [],
   "source": [
    "metafile = data_path / 'batches.meta'\n",
    "with open(metafile, 'rb') as foo:\n",
    "    tit = pickle.load(foo, encoding='bytes')"
   ]
  },
  {
   "cell_type": "code",
   "execution_count": 82,
   "metadata": {
    "ExecuteTime": {
     "end_time": "2019-04-24T17:37:05.501803Z",
     "start_time": "2019-04-24T17:37:05.483737Z"
    }
   },
   "outputs": [
    {
     "data": {
      "text/plain": [
       "[b'airplane',\n",
       " b'automobile',\n",
       " b'bird',\n",
       " b'cat',\n",
       " b'deer',\n",
       " b'dog',\n",
       " b'frog',\n",
       " b'horse',\n",
       " b'ship',\n",
       " b'truck']"
      ]
     },
     "execution_count": 82,
     "metadata": {},
     "output_type": "execute_result"
    }
   ],
   "source": [
    "tit[b'label_names']\n"
   ]
  },
  {
   "cell_type": "code",
   "execution_count": 83,
   "metadata": {
    "ExecuteTime": {
     "end_time": "2019-04-24T17:37:16.180950Z",
     "start_time": "2019-04-24T17:37:15.704562Z"
    }
   },
   "outputs": [],
   "source": [
    "import matplotlib.pyplot as plt"
   ]
  },
  {
   "cell_type": "code",
   "execution_count": 90,
   "metadata": {
    "ExecuteTime": {
     "end_time": "2019-04-24T17:38:34.407692Z",
     "start_time": "2019-04-24T17:38:34.064642Z"
    }
   },
   "outputs": [
    {
     "data": {
      "text/plain": [
       "9"
      ]
     },
     "execution_count": 90,
     "metadata": {},
     "output_type": "execute_result"
    },
    {
     "data": {
      "image/png": "[encoded data removed]",
      "text/plain": [
       "<Figure size 432x288 with 1 Axes>"
      ]
     },
     "metadata": {
      "needs_background": "light"
     },
     "output_type": "display_data"
    }
   ],
   "source": [
    "plt.imshow(np.reshape(train_data_np[1,:1024], (32, 32)))\n",
    "train_labels_np[1]"
   ]
  },
  {
   "cell_type": "code",
   "execution_count": 17,
   "metadata": {
    "ExecuteTime": {
     "end_time": "2019-04-26T15:57:35.894616Z",
     "start_time": "2019-04-26T15:57:35.871574Z"
    }
   },
   "outputs": [],
   "source": [
    "metadata = data_path / 'batches.meta'"
   ]
  },
  {
   "cell_type": "code",
   "execution_count": 18,
   "metadata": {
    "ExecuteTime": {
     "end_time": "2019-04-26T15:57:36.232222Z",
     "start_time": "2019-04-26T15:57:36.213507Z"
    }
   },
   "outputs": [],
   "source": [
    "t1 = unpickle(metadata)"
   ]
  },
  {
   "cell_type": "code",
   "execution_count": 22,
   "metadata": {
    "ExecuteTime": {
     "end_time": "2019-04-26T15:57:51.781849Z",
     "start_time": "2019-04-26T15:57:51.768515Z"
    }
   },
   "outputs": [
    {
     "data": {
      "text/plain": [
       "str"
      ]
     },
     "execution_count": 22,
     "metadata": {},
     "output_type": "execute_result"
    }
   ],
   "source": [
    "type(t1['label_names'][0])"
   ]
  },
  {
   "cell_type": "code",
   "execution_count": 26,
   "metadata": {
    "ExecuteTime": {
     "end_time": "2019-04-26T16:03:52.026906Z",
     "start_time": "2019-04-26T16:03:51.996003Z"
    }
   },
   "outputs": [],
   "source": [
    "from load_cifar2 import load_label_names, features_reshape"
   ]
  },
  {
   "cell_type": "code",
   "execution_count": 24,
   "metadata": {
    "ExecuteTime": {
     "end_time": "2019-04-26T16:00:16.105881Z",
     "start_time": "2019-04-26T16:00:16.090656Z"
    }
   },
   "outputs": [],
   "source": [
    "yolo = load_label_names(data_path)"
   ]
  },
  {
   "cell_type": "code",
   "execution_count": 25,
   "metadata": {
    "ExecuteTime": {
     "end_time": "2019-04-26T16:00:17.883580Z",
     "start_time": "2019-04-26T16:00:17.852331Z"
    }
   },
   "outputs": [
    {
     "name": "stdout",
     "output_type": "stream",
     "text": [
      "['airplane', 'automobile', 'bird', 'cat', 'deer', 'dog', 'frog', 'horse', 'ship', 'truck']\n"
     ]
    }
   ],
   "source": []
  },
  {
   "cell_type": "code",
   "execution_count": 15,
   "metadata": {
    "ExecuteTime": {
     "end_time": "2019-04-27T01:09:08.522874Z",
     "start_time": "2019-04-27T01:09:08.502534Z"
    }
   },
   "outputs": [],
   "source": [
    "from load_cifar import *\n",
    "import matplotlib.pyplot as plt\n",
    "import os\n",
    "from pathlib import Path\n",
    "import pickle\n",
    "import numpy as np\n",
    "# get the data paths\n",
    "working_dir = Path(\"C:/Users/dcash/Documents/ee596/spr2019_ee596/hw2\")\n",
    "data_path = working_dir / \"data/cifar-10-batches-py\"\n",
    "def unpickle(file):\n",
    "    with open(file, 'rb') as fo:\n",
    "        d1 = pickle.load(fo, encoding='utf8')\n",
    "    return d1"
   ]
  },
  {
   "cell_type": "code",
   "execution_count": 16,
   "metadata": {
    "ExecuteTime": {
     "end_time": "2019-04-27T01:09:08.982969Z",
     "start_time": "2019-04-27T01:09:08.917340Z"
    }
   },
   "outputs": [],
   "source": [
    "xdata, xlabels = load_training_batch(data_path, 1)"
   ]
  },
  {
   "cell_type": "code",
   "execution_count": 5,
   "metadata": {
    "ExecuteTime": {
     "end_time": "2019-04-27T01:00:51.938729Z",
     "start_time": "2019-04-27T01:00:51.852568Z"
    }
   },
   "outputs": [],
   "source": [
    "t1 = features_reshape(xdata)"
   ]
  },
  {
   "cell_type": "code",
   "execution_count": 13,
   "metadata": {
    "ExecuteTime": {
     "end_time": "2019-04-27T01:01:33.662298Z",
     "start_time": "2019-04-27T01:01:33.462690Z"
    }
   },
   "outputs": [
    {
     "data": {
      "text/plain": [
       "<matplotlib.image.AxesImage at 0x1f7ecf23fd0>"
      ]
     },
     "execution_count": 13,
     "metadata": {},
     "output_type": "execute_result"
    },
    {
     "data": {
      "image/png": "[encoded data removed]",
      "text/plain": [
       "<Figure size 432x288 with 1 Axes>"
      ]
     },
     "metadata": {
      "needs_background": "light"
     },
     "output_type": "display_data"
    }
   ],
   "source": [
    "plt.imshow(t1[1500,:,:,:])"
   ]
  },
  {
   "cell_type": "code",
   "execution_count": 5,
   "metadata": {
    "ExecuteTime": {
     "end_time": "2019-04-26T16:33:19.057970Z",
     "start_time": "2019-04-26T16:33:18.762207Z"
    }
   },
   "outputs": [],
   "source": [
    "x_normalized = normalize(xdata)"
   ]
  },
  {
   "cell_type": "code",
   "execution_count": 6,
   "metadata": {
    "ExecuteTime": {
     "end_time": "2019-04-26T16:33:19.478980Z",
     "start_time": "2019-04-26T16:33:19.463794Z"
    }
   },
   "outputs": [],
   "source": [
    "x_onehot = one_hot_encoding(xlabels)"
   ]
  },
  {
   "cell_type": "code",
   "execution_count": 7,
   "metadata": {
    "ExecuteTime": {
     "end_time": "2019-04-26T16:33:19.957588Z",
     "start_time": "2019-04-26T16:33:19.941967Z"
    }
   },
   "outputs": [
    {
     "data": {
      "text/plain": [
       "array([0., 1., 0., 0., 0., 0., 0., 0., 0., 0.])"
      ]
     },
     "execution_count": 7,
     "metadata": {},
     "output_type": "execute_result"
    }
   ],
   "source": [
    "x_onehot[5]"
   ]
  },
  {
   "cell_type": "code",
   "execution_count": 8,
   "metadata": {
    "ExecuteTime": {
     "end_time": "2019-04-26T16:33:20.795362Z",
     "start_time": "2019-04-26T16:33:20.643885Z"
    }
   },
   "outputs": [
    {
     "data": {
      "text/plain": [
       "<matplotlib.image.AxesImage at 0x28948fef160>"
      ]
     },
     "execution_count": 8,
     "metadata": {},
     "output_type": "execute_result"
    },
    {
     "data": {
      "image/png": "[encoded data removed]",
      "text/plain": [
       "<Figure size 432x288 with 1 Axes>"
      ]
     },
     "metadata": {
      "needs_background": "light"
     },
     "output_type": "display_data"
    }
   ],
   "source": [
    "plt.imshow(t1[5,:,:,:])"
   ]
  },
  {
   "cell_type": "code",
   "execution_count": 9,
   "metadata": {
    "ExecuteTime": {
     "end_time": "2019-04-26T16:33:23.357516Z",
     "start_time": "2019-04-26T16:33:22.007338Z"
    }
   },
   "outputs": [
    {
     "data": {
      "text/plain": [
       "0"
      ]
     },
     "execution_count": 9,
     "metadata": {},
     "output_type": "execute_result"
    }
   ],
   "source": [
    "preprocess_and_save(xdata, xlabels, 'yolo.pkl')"
   ]
  },
  {
   "cell_type": "code",
   "execution_count": 10,
   "metadata": {
    "ExecuteTime": {
     "end_time": "2019-04-26T16:36:30.058449Z",
     "start_time": "2019-04-26T16:36:30.027201Z"
    }
   },
   "outputs": [
    {
     "data": {
      "text/plain": [
       "5000.0"
      ]
     },
     "execution_count": 10,
     "metadata": {},
     "output_type": "execute_result"
    }
   ],
   "source": [
    "0.1 * 50000"
   ]
  },
  {
   "cell_type": "code",
   "execution_count": 14,
   "metadata": {
    "ExecuteTime": {
     "end_time": "2019-04-26T16:41:19.039387Z",
     "start_time": "2019-04-26T16:41:19.023756Z"
    }
   },
   "outputs": [],
   "source": [
    "yolo = [data_path / ('data_batch_' + str(n)) for n in range(1,6)]"
   ]
  },
  {
   "cell_type": "code",
   "execution_count": 2,
   "metadata": {
    "ExecuteTime": {
     "end_time": "2019-04-26T16:58:44.739650Z",
     "start_time": "2019-04-26T16:58:36.958509Z"
    }
   },
   "outputs": [
    {
     "data": {
      "text/plain": [
       "0"
      ]
     },
     "execution_count": 2,
     "metadata": {},
     "output_type": "execute_result"
    }
   ],
   "source": [
    "preprocess_data(data_path)"
   ]
  },
  {
   "cell_type": "code",
   "execution_count": 2,
   "metadata": {
    "ExecuteTime": {
     "end_time": "2019-04-26T17:17:03.913899Z",
     "start_time": "2019-04-26T17:17:03.742421Z"
    }
   },
   "outputs": [],
   "source": [
    "yolo = unpickle('val_processed.pkl')"
   ]
  },
  {
   "cell_type": "code",
   "execution_count": 3,
   "metadata": {
    "ExecuteTime": {
     "end_time": "2019-04-26T17:17:05.314066Z",
     "start_time": "2019-04-26T17:17:05.095686Z"
    }
   },
   "outputs": [
    {
     "data": {
      "text/plain": [
       "array([0., 0., 0., 0., 1., 0., 0., 0., 0., 0.])"
      ]
     },
     "execution_count": 3,
     "metadata": {},
     "output_type": "execute_result"
    },
    {
     "data": {
      "image/png": "[encoded data removed]",
      "text/plain": [
       "<Figure size 432x288 with 1 Axes>"
      ]
     },
     "metadata": {
      "needs_background": "light"
     },
     "output_type": "display_data"
    }
   ],
   "source": [
    "plt.imshow(np.reshape(yolo['data'][0], (32, 32, 3), order='F'))\n",
    "yolo['labels_onehot'][0]"
   ]
  },
  {
   "cell_type": "code",
   "execution_count": 4,
   "metadata": {
    "ExecuteTime": {
     "end_time": "2019-04-26T17:17:06.011659Z",
     "start_time": "2019-04-26T17:17:05.996044Z"
    }
   },
   "outputs": [],
   "source": [
    "t1 = yolo['data']\n",
    "t2 = yolo['labels_onehot']"
   ]
  },
  {
   "cell_type": "code",
   "execution_count": 4,
   "metadata": {
    "ExecuteTime": {
     "end_time": "2019-04-26T17:29:40.846994Z",
     "start_time": "2019-04-26T17:29:40.560933Z"
    }
   },
   "outputs": [],
   "source": [
    "b1 = load_preprocessed_training_batch(1, 128)"
   ]
  },
  {
   "cell_type": "code",
   "execution_count": 9,
   "metadata": {
    "ExecuteTime": {
     "end_time": "2019-04-26T17:30:27.466971Z",
     "start_time": "2019-04-26T17:30:27.256963Z"
    }
   },
   "outputs": [
    {
     "name": "stdout",
     "output_type": "stream",
     "text": [
      "[[0.62745098 0.58431373 0.61960784 ... 0.23137255 0.22745098 0.21960784]\n",
      " [0.28235294 0.47058824 0.53333333 ... 0.24313725 0.27058824 0.28235294]\n",
      " [0.16078431 0.27058824 0.3254902  ... 0.30588235 0.28627451 0.30196078]\n",
      " ...\n",
      " [0.00392157 0.00392157 0.00392157 ... 0.91764706 0.90588235 0.90588235]\n",
      " [0.09803922 0.09803922 0.09411765 ... 0.30196078 0.18431373 0.31764706]\n",
      " [0.75686275 0.79215686 0.79607843 ... 0.07058824 0.0745098  0.06666667]]\n",
      "[[0. 0. 0. ... 0. 0. 1.]\n",
      " [0. 0. 1. ... 0. 0. 0.]\n",
      " [0. 0. 0. ... 1. 0. 0.]\n",
      " ...\n",
      " [1. 0. 0. ... 0. 0. 0.]\n",
      " [0. 0. 0. ... 0. 0. 0.]\n",
      " [0. 0. 0. ... 0. 0. 0.]]\n",
      "[0. 0. 0. 0. 0. 0. 0. 0. 0. 1.]\n",
      "truck\n"
     ]
    },
    {
     "data": {
      "image/png": "[encoded data removed]",
      "text/plain": [
       "<Figure size 432x288 with 1 Axes>"
      ]
     },
     "metadata": {
      "needs_background": "light"
     },
     "output_type": "display_data"
    }
   ],
   "source": [
    "k1, k2 = next(b1)\n",
    "print(k1)\n",
    "print(k2)\n",
    "plt.imshow(np.reshape(k1[0], (32, 32, 3), order='F'))\n",
    "print(k2[0])\n",
    "lel = ['airplane', 'automobile', 'bird', 'cat', 'deer', 'dog', 'frog', 'horse', 'ship', 'truck']\n",
    "print(lel[np.argmax(k2[0])])"
   ]
  },
  {
   "cell_type": "code",
   "execution_count": 25,
   "metadata": {
    "ExecuteTime": {
     "end_time": "2019-04-27T01:09:56.842559Z",
     "start_time": "2019-04-27T01:09:56.812845Z"
    }
   },
   "outputs": [
    {
     "data": {
      "text/plain": [
       "array([[255, 253, 253, ...,  83,  83,  84],\n",
       "       [154, 126, 105, ..., 139, 142, 144]], dtype=uint8)"
      ]
     },
     "execution_count": 25,
     "metadata": {},
     "output_type": "execute_result"
    }
   ],
   "source": []
  },
  {
   "cell_type": "code",
   "execution_count": null,
   "metadata": {},
   "outputs": [],
   "source": []
  }
 ],
 "metadata": {
  "kernelspec": {
   "display_name": "Python 3",
   "language": "python",
   "name": "python3"
  },
  "language_info": {
   "codemirror_mode": {
    "name": "ipython",
    "version": 3
   },
   "file_extension": ".py",
   "mimetype": "text/x-python",
   "name": "python",
   "nbconvert_exporter": "python",
   "pygments_lexer": "ipython3",
   "version": "3.6.8"
  }
 },
 "nbformat": 4,
 "nbformat_minor": 2
}
