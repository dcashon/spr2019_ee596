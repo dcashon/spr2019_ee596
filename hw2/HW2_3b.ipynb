{
 "cells": [
  {
   "cell_type": "code",
   "execution_count": 1,
   "metadata": {},
   "outputs": [],
   "source": [
    "import tensorflow as tf\n",
    "import pickle\n",
    "import numpy as np\n",
    "import timeit\n",
    "import load_cifar\n",
    "import matplotlib.pyplot as plt\n",
    "import time"
   ]
  },
  {
   "cell_type": "code",
   "execution_count": 22,
   "metadata": {},
   "outputs": [],
   "source": [
    "tf.reset_default_graph()\n",
    "# get validation data\n",
    "val_data, val_labels = load_cifar.load_preprocessed_validation_batch()\n",
    "test_data, test_labels = load_cifar.load_preprocessed_test_batch()"
   ]
  },
  {
   "cell_type": "markdown",
   "metadata": {},
   "source": [
    "<h1>Hyperparameter</h1>"
   ]
  },
  {
   "cell_type": "code",
   "execution_count": 23,
   "metadata": {},
   "outputs": [],
   "source": [
    "num_epochs = 10\n",
    "batch_size = 128"
   ]
  },
  {
   "cell_type": "markdown",
   "metadata": {},
   "source": [
    "<h1>Placeholder</h1>"
   ]
  },
  {
   "cell_type": "code",
   "execution_count": 24,
   "metadata": {},
   "outputs": [],
   "source": [
    "x_data = tf.placeholder(tf.float32, shape=(None, 32, 32, 3))\n",
    "y_labels = tf.placeholder(tf.float32, shape=(None, 10))"
   ]
  },
  {
   "cell_type": "markdown",
   "metadata": {},
   "source": [
    "<h1>LeNet-5</h1>"
   ]
  },
  {
   "cell_type": "code",
   "execution_count": 25,
   "metadata": {},
   "outputs": [],
   "source": [
    "# copy and paste from part a\n",
    "# LeNet 5 implements trainable average pooling layers\n",
    "# in addition to convolutional layers that dont convolve over the\n",
    "# whole feature map. Here we omit these features and\n",
    "# copy the general structure, using max pool, and full conv layers\n",
    "# They also use sigmoids in the convolution, omitted here\n",
    "# and RBF for loss. we just use cross entropy\n",
    "\n",
    "# c1: convolution2d\n",
    "c1 = tf.layers.conv2d(x_data, filters=6, kernel_size=5, activation=tf.nn.sigmoid)\n",
    "\n",
    "# s1: ave pool nontrainable substituted for trainable average pool\n",
    "s1 = tf.layers.average_pooling2d(c1, pool_size=2, strides=2)\n",
    "\n",
    "# c2: convolution 2d size (5,5, 10)\n",
    "c2 = tf.layers.conv2d(s1, filters=16, kernel_size=5)\n",
    "\n",
    "# s3: ave pool nontrainable substitute for ave pool\n",
    "s2 = tf.layers.average_pooling2d(c2, pool_size=2, strides=2)\n",
    "\n",
    "# c4: 1x1 conv layer\n",
    "c3 = tf.layers.conv2d(s2, filters=120, kernel_size=1, activation=tf.nn.sigmoid)\n",
    "\n",
    "# flatten for fully connect\n",
    "c3_flat = tf.layers.flatten(c3)\n",
    "\n",
    "# dense\n",
    "d4 = tf.layers.dense(c3_flat, units=84, activation=tf.nn.sigmoid)\n",
    "\n",
    "# output\n",
    "out = tf.layers.dense(d4, units=10)\n"
   ]
  },
  {
   "cell_type": "markdown",
   "metadata": {},
   "source": [
    "<h1>Cost and Optimization</h1>"
   ]
  },
  {
   "cell_type": "code",
   "execution_count": 26,
   "metadata": {},
   "outputs": [],
   "source": [
    "cost = tf.reduce_mean(tf.nn.softmax_cross_entropy_with_logits_v2(labels=y_labels, logits=out))\n",
    "opt = tf.train.AdamOptimizer()\n",
    "to_minimize = opt.minimize(cost)\n",
    "\n",
    "# compare prediction accuracy \n",
    "correct_pred = tf.equal(tf.argmax(tf.nn.softmax(out),1),tf.argmax(y_labels,1))\n",
    "accuracy = tf.reduce_mean(tf.cast(correct_pred,tf.float32),name='accuracy')\n"
   ]
  },
  {
   "cell_type": "markdown",
   "metadata": {},
   "source": [
    "<h1>Training, validation and testing</h1>\n",
    "<h2>Train your model only 10 epochs.</h2>\n",
    "<h2>1.Print out validation accuracy after each training epoch</h2>\n",
    "<h2>2.Print out training time for each training epoch</h2>\n",
    "<h2>3.Print out testing accuracy</h2>"
   ]
  },
  {
   "cell_type": "code",
   "execution_count": 27,
   "metadata": {},
   "outputs": [
    {
     "name": "stdout",
     "output_type": "stream",
     "text": [
      "Training for Epoch: \t0\n",
      "Training for Batch: \t1\n",
      "Training for Batch: \t2\n",
      "Training for Batch: \t3\n",
      "Training for Batch: \t4\n",
      "Training for Batch: \t5\n",
      "Current validation set accuracy is: \t\n",
      "0.103\n",
      "Time to train epoch \t\n",
      "2.926572322845459\n",
      "Training for Epoch: \t1\n",
      "Training for Batch: \t1\n",
      "Training for Batch: \t2\n",
      "Training for Batch: \t3\n",
      "Training for Batch: \t4\n",
      "Training for Batch: \t5\n",
      "Current validation set accuracy is: \t\n",
      "0.2908\n",
      "Time to train epoch \t\n",
      "2.4780161380767822\n",
      "Training for Epoch: \t2\n",
      "Training for Batch: \t1\n",
      "Training for Batch: \t2\n",
      "Training for Batch: \t3\n",
      "Training for Batch: \t4\n",
      "Training for Batch: \t5\n",
      "Current validation set accuracy is: \t\n",
      "0.3172\n",
      "Time to train epoch \t\n",
      "2.290691614151001\n",
      "Training for Epoch: \t3\n",
      "Training for Batch: \t1\n",
      "Training for Batch: \t2\n",
      "Training for Batch: \t3\n",
      "Training for Batch: \t4\n",
      "Training for Batch: \t5\n",
      "Current validation set accuracy is: \t\n",
      "0.3414\n",
      "Time to train epoch \t\n",
      "2.2953310012817383\n",
      "Training for Epoch: \t4\n",
      "Training for Batch: \t1\n",
      "Training for Batch: \t2\n",
      "Training for Batch: \t3\n",
      "Training for Batch: \t4\n",
      "Training for Batch: \t5\n",
      "Current validation set accuracy is: \t\n",
      "0.3574\n",
      "Time to train epoch \t\n",
      "2.294985771179199\n",
      "Training for Epoch: \t5\n",
      "Training for Batch: \t1\n",
      "Training for Batch: \t2\n",
      "Training for Batch: \t3\n",
      "Training for Batch: \t4\n",
      "Training for Batch: \t5\n",
      "Current validation set accuracy is: \t\n",
      "0.3884\n",
      "Time to train epoch \t\n",
      "2.2893035411834717\n",
      "Training for Epoch: \t6\n",
      "Training for Batch: \t1\n",
      "Training for Batch: \t2\n",
      "Training for Batch: \t3\n",
      "Training for Batch: \t4\n",
      "Training for Batch: \t5\n",
      "Current validation set accuracy is: \t\n",
      "0.4006\n",
      "Time to train epoch \t\n",
      "2.295846700668335\n",
      "Training for Epoch: \t7\n",
      "Training for Batch: \t1\n",
      "Training for Batch: \t2\n",
      "Training for Batch: \t3\n",
      "Training for Batch: \t4\n",
      "Training for Batch: \t5\n",
      "Current validation set accuracy is: \t\n",
      "0.4224\n",
      "Time to train epoch \t\n",
      "2.2906954288482666\n",
      "Training for Epoch: \t8\n",
      "Training for Batch: \t1\n",
      "Training for Batch: \t2\n",
      "Training for Batch: \t3\n",
      "Training for Batch: \t4\n",
      "Training for Batch: \t5\n",
      "Current validation set accuracy is: \t\n",
      "0.4232\n",
      "Time to train epoch \t\n",
      "2.2924585342407227\n",
      "Training for Epoch: \t9\n",
      "Training for Batch: \t1\n",
      "Training for Batch: \t2\n",
      "Training for Batch: \t3\n",
      "Training for Batch: \t4\n",
      "Training for Batch: \t5\n",
      "Current validation set accuracy is: \t\n",
      "0.442\n",
      "Time to train epoch \t\n",
      "2.2934207916259766\n"
     ]
    }
   ],
   "source": [
    "init = tf.global_variables_initializer()\n",
    "epochs, losses = [], []\n",
    "with tf.Session() as sess:\n",
    "    sess.run(init)\n",
    "    for i in range(num_epochs):\n",
    "        start = time.time()\n",
    "        print('Training for Epoch: \\t' + str(i))\n",
    "        for batch_num in range(1, 6):\n",
    "            print('Training for Batch: \\t' + str(batch_num))\n",
    "            training_data = load_cifar.load_preprocessed_training_batch(batch_num, batch_size)\n",
    "            for data, labels in training_data:\n",
    "                f_dict = {x_data: np.reshape(data, (-1, 32, 32, 3)), y_labels: labels}\n",
    "                sess.run(to_minimize, feed_dict=f_dict)\n",
    "        #print('Current Loss is : \\t')\n",
    "        current_loss = sess.run(cost, feed_dict=f_dict)\n",
    "        losses.append(current_loss)\n",
    "        epochs.append(i)\n",
    "        #print(current_loss)\n",
    "        #print('Current minibatch accuracy is: \\t')\n",
    "        #current_acc = sess.run(accuracy, feed_dict=f_dict)\n",
    "        #print(current_acc)\n",
    "        print('Current validation set accuracy is: \\t')\n",
    "        val_acc = sess.run(accuracy, feed_dict={x_data:np.reshape(val_data, (-1, 32, 32, 3)), y_labels:val_labels})\n",
    "        print(val_acc)\n",
    "        print('Time to train epoch \\t')\n",
    "        print(time.time() - start)\n",
    "    test_acc = sess.run(accuracy, feed_dict={x_data: np.reshape(test_data, (-1, 32, 32, 3)), y_labels: test_labels})\n",
    "\n",
    "        "
   ]
  },
  {
   "cell_type": "code",
   "execution_count": 28,
   "metadata": {},
   "outputs": [
    {
     "data": {
      "text/plain": [
       "Text(0.5, 1.0, 'Test Accuracy: \\t 0.4326')"
      ]
     },
     "execution_count": 28,
     "metadata": {},
     "output_type": "execute_result"
    },
    {
     "data": {
      "image/png": "[encoded data removed]",
      "text/plain": [
       "<Figure size 864x720 with 1 Axes>"
      ]
     },
     "metadata": {
      "needs_background": "light"
     },
     "output_type": "display_data"
    }
   ],
   "source": [
    "# i cant reach %60 without modifying the network\n",
    "plt.figure(1, figsize=(12,10))\n",
    "plt.plot(epochs, losses)\n",
    "plt.grid(True)\n",
    "plt.xlabel('Epochs')\n",
    "plt.ylabel('Cost (Training Batch)')\n",
    "plt.title('Test Accuracy: \\t ' + str(test_acc))"
   ]
  },
  {
   "cell_type": "code",
   "execution_count": null,
   "metadata": {},
   "outputs": [],
   "source": []
  }
 ],
 "metadata": {
  "kernelspec": {
   "display_name": "Python 3",
   "language": "python",
   "name": "python3"
  },
  "language_info": {
   "codemirror_mode": {
    "name": "ipython",
    "version": 3
   },
   "file_extension": ".py",
   "mimetype": "text/x-python",
   "name": "python",
   "nbconvert_exporter": "python",
   "pygments_lexer": "ipython3",
   "version": "3.6.8"
  }
 },
 "nbformat": 4,
 "nbformat_minor": 2
}
