{
 "cells": [
  {
   "cell_type": "code",
   "execution_count": 1,
   "metadata": {},
   "outputs": [
    {
     "data": {
      "text/html": [
       "<style>.container { width:100% !important; }</style>"
      ],
      "text/plain": [
       "<IPython.core.display.HTML object>"
      ]
     },
     "metadata": {},
     "output_type": "display_data"
    }
   ],
   "source": [
    "from IPython.core.display import display, HTML\n",
    "display(HTML(\"<style>.container { width:100% !important; }</style>\"))"
   ]
  },
  {
   "cell_type": "code",
   "execution_count": 1,
   "metadata": {},
   "outputs": [
    {
     "name": "stderr",
     "output_type": "stream",
     "text": [
      "/sw/anaconda-5.3/python3.7/lib/python3.6/site-packages/sklearn/utils/fixes.py:313: FutureWarning: numpy not_equal will not check object identity in the future. The comparison did not return the same result as suggested by the identity (`is`)) and will change.\n",
      "  _nan_object_mask = _nan_object_array != _nan_object_array\n"
     ]
    },
    {
     "ename": "ModuleNotFoundError",
     "evalue": "No module named 'tensorflow'",
     "output_type": "error",
     "traceback": [
      "\u001b[0;31m---------------------------------------------------------------------------\u001b[0m",
      "\u001b[0;31mModuleNotFoundError\u001b[0m                       Traceback (most recent call last)",
      "\u001b[0;32m<ipython-input-1-71847cd5c3a4>\u001b[0m in \u001b[0;36m<module>\u001b[0;34m()\u001b[0m\n\u001b[1;32m      5\u001b[0m \u001b[0;32mfrom\u001b[0m \u001b[0msklearn\u001b[0m\u001b[0;34m.\u001b[0m\u001b[0mpreprocessing\u001b[0m \u001b[0;32mimport\u001b[0m \u001b[0mMinMaxScaler\u001b[0m\u001b[0;34m\u001b[0m\u001b[0m\n\u001b[1;32m      6\u001b[0m \u001b[0;32mfrom\u001b[0m \u001b[0msklearn\u001b[0m\u001b[0;34m.\u001b[0m\u001b[0mmodel_selection\u001b[0m \u001b[0;32mimport\u001b[0m \u001b[0mtrain_test_split\u001b[0m\u001b[0;34m\u001b[0m\u001b[0m\n\u001b[0;32m----> 7\u001b[0;31m \u001b[0;32mimport\u001b[0m \u001b[0mtensorflow\u001b[0m \u001b[0;32mas\u001b[0m \u001b[0mtf\u001b[0m\u001b[0;34m\u001b[0m\u001b[0m\n\u001b[0m\u001b[1;32m      8\u001b[0m \u001b[0;32mfrom\u001b[0m \u001b[0mrandom\u001b[0m \u001b[0;32mimport\u001b[0m \u001b[0mshuffle\u001b[0m\u001b[0;34m\u001b[0m\u001b[0m\n",
      "\u001b[0;31mModuleNotFoundError\u001b[0m: No module named 'tensorflow'"
     ]
    }
   ],
   "source": [
    "import numpy as np\n",
    "import matplotlib.pyplot as plt\n",
    "import pandas as pd\n",
    "import datetime\n",
    "from sklearn.preprocessing import MinMaxScaler\n",
    "from sklearn.model_selection import train_test_split\n",
    "import tensorflow as tf\n",
    "from random import shuffle"
   ]
  },
  {
   "cell_type": "markdown",
   "metadata": {},
   "source": [
    "# Preprocess Data\n",
    "In the <b>HW3_template</b> folder you will find `TSLA.csv`, `GOOGL.csv` and `DJI.csv` files. Use Pandas (You have used it in HW1) to retrieve the dataset. Use only <b>Open</b> price as your input. (You will train three models for three different stocks, don't mix these data together!)"
   ]
  },
  {
   "cell_type": "code",
   "execution_count": 2,
   "metadata": {},
   "outputs": [],
   "source": [
    "tsla_data = pd.read_csv('./TSLA.csv')\n",
    "goog_data = pd.read_csv('./GOOGL.csv')\n",
    "dji_data = pd.read_csv('./DJI.csv')"
   ]
  },
  {
   "cell_type": "markdown",
   "metadata": {},
   "source": [
    "## Normalize your data\n",
    "You could use `MinMaxScaler` in `sklearn.preprocessing` to normalize the data between 0 and 1."
   ]
  },
  {
   "cell_type": "code",
   "execution_count": 3,
   "metadata": {},
   "outputs": [
    {
     "name": "stderr",
     "output_type": "stream",
     "text": [
      "/sw/anaconda-5.3/python3.7/lib/python3.6/site-packages/sklearn/preprocessing/data.py:323: DataConversionWarning: Data with input dtype int64, float64 were all converted to float64 by MinMaxScaler.\n",
      "  return self.partial_fit(X, y)\n",
      "/sw/anaconda-5.3/python3.7/lib/python3.6/site-packages/sklearn/preprocessing/data.py:323: DataConversionWarning: Data with input dtype int64, float64 were all converted to float64 by MinMaxScaler.\n",
      "  return self.partial_fit(X, y)\n",
      "/sw/anaconda-5.3/python3.7/lib/python3.6/site-packages/sklearn/preprocessing/data.py:323: DataConversionWarning: Data with input dtype int64, float64 were all converted to float64 by MinMaxScaler.\n",
      "  return self.partial_fit(X, y)\n"
     ]
    }
   ],
   "source": [
    "scaler = MinMaxScaler()\n",
    "tsla_open = scaler.fit_transform(tsla_data.iloc[:,1:])[:,0]\n",
    "goog_open = scaler.fit_transform(goog_data.iloc[:, 1:])[:,0]\n",
    "dji_open = scaler.fit_transform(dji_data.iloc[:,1:])[:,0]"
   ]
  },
  {
   "cell_type": "code",
   "execution_count": 4,
   "metadata": {},
   "outputs": [
    {
     "name": "stdout",
     "output_type": "stream",
     "text": [
      "(8636,)\n",
      "(2227,)\n",
      "(3702,)\n"
     ]
    },
    {
     "data": {
      "image/png": "[encoded data removed]",
      "text/plain": [
       "<matplotlib.figure.Figure at 0x2b614653ef60>"
      ]
     },
     "metadata": {
      "needs_background": "light"
     },
     "output_type": "display_data"
    }
   ],
   "source": [
    "# quick viz\n",
    "plt.plot(tsla_open)\n",
    "plt.plot(goog_open)\n",
    "plt.plot(dji_open)\n",
    "print(dji_open.shape)\n",
    "print(tsla_open.shape)\n",
    "print(goog_open.shape)\n"
   ]
  },
  {
   "cell_type": "markdown",
   "metadata": {},
   "source": [
    "# Split training, validation and testing data\n",
    "<p style=\"font-size:20px\">Since you will impelement a many-to-one Recurrent Neural Network model, every input data will have shape [batch_size, num_seq, input_size] and output data will have shape [batch_size, input_size] "
   ]
  },
  {
   "cell_type": "code",
   "execution_count": 5,
   "metadata": {},
   "outputs": [],
   "source": [
    "def split(data, size):\n",
    "    \"\"\"\n",
    "    If data is a list, will split all (e.g. we use all the tsla, goog, dji data)\n",
    "    Parameters:\n",
    "        -data: 1D numpy array of opening price\n",
    "        -size: how many days back to use\n",
    "    Outputs:\n",
    "        -\n",
    "    \"\"\"\n",
    "    if isinstance(data, list):\n",
    "        print('Data is in list, concatenating...')\n",
    "        l_data = []\n",
    "        for d in data:\n",
    "            # select size + 1 (for \"label\")\n",
    "            for i in range(0, len(d) - size, size+1):\n",
    "                l_data.append(d[i:i + size + 1])\n",
    "    else:\n",
    "        l_data = []\n",
    "        for i in range(0, len(data) - size, size+1):\n",
    "            l_data.append(data[i:i + size + 1])\n",
    "    np_data = np.vstack(l_data)\n",
    "    data, labels = np_data[:,:-1], np_data[:,-1]\n",
    "    x_train, x_temp, y_train, y_temp = train_test_split(data, labels, test_size=0.2)\n",
    "    x_val, x_test, y_val, y_test = train_test_split(x_temp, y_temp, test_size=0.5)\n",
    "    return x_train, y_train, x_val, y_val, x_test, y_test\n",
    "\n",
    "def minibatch(data, labels, batch_size):\n",
    "    start, end = 0, batch_size\n",
    "    while end < len(data):\n",
    "        yield data[start:end], labels[start:end]\n",
    "        start += batch_size\n",
    "        end += batch_size\n",
    "        \n",
    "        "
   ]
  },
  {
   "cell_type": "code",
   "execution_count": 334,
   "metadata": {},
   "outputs": [
    {
     "name": "stdout",
     "output_type": "stream",
     "text": [
      "Data is in list, concatenating...\n"
     ]
    }
   ],
   "source": [
    "num_days = 15\n",
    "x_train, y_train, x_val, y_val, x_test, y_test = split([tsla_open, dji_open, goog_open], num_days)"
   ]
  },
  {
   "cell_type": "code",
   "execution_count": 335,
   "metadata": {},
   "outputs": [],
   "source": [
    "# reshape to [-1, num_steps=num_days, num_inputs=1]\n",
    "x_train_1 = np.reshape(x_train, (-1, num_days, 1))\n",
    "y_train_1 = np.reshape(y_train, (-1, 1))\n"
   ]
  },
  {
   "cell_type": "markdown",
   "metadata": {},
   "source": [
    "# TensorFlow Model"
   ]
  },
  {
   "cell_type": "code",
   "execution_count": 388,
   "metadata": {},
   "outputs": [],
   "source": [
    "# hyperparameters\n",
    "num_epochs = 25\n",
    "batch_size = 16\n",
    "lr = 0.001\n",
    "\n",
    "# model parameters\n",
    "tf.reset_default_graph()\n",
    "num_steps = num_days # number of days to use to predict\n",
    "num_inputs = 1 # scalar input (open price)\n",
    "num_neurons = 128 # recurrent neurons per cell\n",
    "num_outputs = 1\n",
    "\n",
    "# construct the graph\n",
    "tf.reset_default_graph()\n",
    "\n",
    "# placeholders for input stock data open prices\n",
    "X = tf.placeholder(tf.float32, shape=[None, num_steps, num_inputs])\n",
    "Y = tf.placeholder(tf.float32, shape=[None])\n",
    "\n",
    "# RNN\n",
    "cell = tf.contrib.rnn.BasicLSTMCell(num_units=num_neurons)\n",
    "outputs, states = tf.nn.dynamic_rnn(cell, X, dtype=tf.float32) #unwrap\n",
    "\n",
    "# fully connected layer at end-state to get scalar prediction of next stock value\n",
    "pred = tf.layers.dense(states[0], num_outputs) # have to index into state to get hidden state for prediction use\n",
    "\n",
    "# loss\n",
    "loss = tf.reduce_mean(tf.square(pred - Y))\n",
    "opt = tf.train.AdamOptimizer(learning_rate=lr)\n",
    "minimize = opt.minimize(loss)\n"
   ]
  },
  {
   "cell_type": "markdown",
   "metadata": {},
   "source": [
    "# Training"
   ]
  },
  {
   "cell_type": "code",
   "execution_count": 389,
   "metadata": {},
   "outputs": [
    {
     "name": "stdout",
     "output_type": "stream",
     "text": [
      "Training on Epoch: \t0\n",
      "0.16939268\n",
      "0.12762177\n",
      "0.08731702\n",
      "0.09453079\n",
      "0.09675355\n",
      "0.05914352\n",
      "0.14754795\n",
      "0.1089738\n",
      "0.11743535\n",
      "0.11825759\n",
      "0.10110399\n",
      "0.07753515\n",
      "0.09270291\n",
      "0.10705002\n",
      "0.059836224\n",
      "0.07205818\n",
      "0.08316495\n",
      "0.07298614\n",
      "0.083073415\n",
      "0.08019858\n",
      "0.043361194\n",
      "0.09722697\n",
      "0.056162763\n",
      "0.07844899\n",
      "0.0445942\n",
      "0.056142967\n",
      "0.07451714\n",
      "0.081040695\n",
      "0.04191321\n",
      "0.08904119\n",
      "0.08382357\n",
      "0.047257982\n",
      "0.029100303\n",
      "0.04778181\n",
      "0.05759179\n",
      "0.048664298\n",
      "0.100680895\n",
      "0.04605879\n",
      "0.047646105\n",
      "0.03759158\n",
      "0.0690467\n",
      "0.0703595\n",
      "0.060599033\n",
      "0.061712984\n",
      "0.04262873\n",
      "0.04262873\n",
      "Training on Epoch: \t1\n",
      "0.044815302\n",
      "Training on Epoch: \t2\n",
      "0.044959843\n",
      "Training on Epoch: \t3\n",
      "0.044920944\n",
      "Training on Epoch: \t4\n",
      "0.04484482\n",
      "Training on Epoch: \t5\n",
      "0.0447325\n",
      "Training on Epoch: \t6\n",
      "0.044568535\n",
      "Training on Epoch: \t7\n",
      "0.04437954\n",
      "Training on Epoch: \t8\n",
      "0.044201136\n",
      "Training on Epoch: \t9\n",
      "0.044054255\n",
      "Training on Epoch: \t10\n",
      "0.04396078\n",
      "Training on Epoch: \t11\n",
      "0.04388859\n",
      "Training on Epoch: \t12\n",
      "0.043798532\n",
      "Training on Epoch: \t13\n",
      "0.04370903\n",
      "Training on Epoch: \t14\n",
      "0.043737613\n",
      "Training on Epoch: \t15\n",
      "0.043654837\n",
      "Training on Epoch: \t16\n",
      "0.04332217\n",
      "Training on Epoch: \t17\n",
      "0.04326204\n",
      "Training on Epoch: \t18\n",
      "0.043247316\n",
      "Training on Epoch: \t19\n",
      "0.043082803\n",
      "Training on Epoch: \t20\n",
      "0.042901997\n",
      "Training on Epoch: \t21\n",
      "0.043010015\n",
      "Training on Epoch: \t22\n",
      "0.04314851\n",
      "Training on Epoch: \t23\n",
      "0.0427632\n",
      "Training on Epoch: \t24\n",
      "0.0425997\n",
      "Test Loss\n",
      "0.07093156\n"
     ]
    }
   ],
   "source": [
    "init = tf.global_variables_initializer()\n",
    "with tf.Session() as sess:\n",
    "    sess.run(init)\n",
    "    for epoch in range(num_epochs):\n",
    "        print('Training on Epoch: \\t' + str(epoch))\n",
    "        batcher = minibatch(x_train_1, y_train, batch_size)\n",
    "        for data, labels in batcher:\n",
    "            f_dict = {X: data, Y:labels}\n",
    "            sess.run(minimize, feed_dict=f_dict)\n",
    "            if epoch == 0:\n",
    "                print(sess.run(loss, feed_dict=f_dict))\n",
    "        print(sess.run(loss, feed_dict=f_dict))\n",
    "    print(\"Test Loss\")\n",
    "    print(sess.run(loss, feed_dict={X:np.reshape(x_test, (-1,num_days,1)), Y:y_test}))\n",
    "    to_test = sess.run(pred, feed_dict={X:np.reshape(x_test, (-1,num_days,1)), Y:y_test})"
   ]
  },
  {
   "cell_type": "markdown",
   "metadata": {},
   "source": [
    "# Testing"
   ]
  },
  {
   "cell_type": "code",
   "execution_count": 394,
   "metadata": {},
   "outputs": [
    {
     "data": {
      "text/plain": [
       "(0, 1)"
      ]
     },
     "execution_count": 394,
     "metadata": {},
     "output_type": "execute_result"
    },
    {
     "data": {
      "image/png": "[encoded data removed]",
      "text/plain": [
       "<Figure size 432x288 with 1 Axes>"
      ]
     },
     "metadata": {
      "needs_background": "light"
     },
     "output_type": "display_data"
    }
   ],
   "source": [
    "# check stuff out\n",
    "val = 52\n",
    "plt.figure()\n",
    "plt.plot(x_test[val])\n",
    "plt.scatter(len(x_test[val]), y_test[val])\n",
    "plt.scatter(len(x_test[val]), to_test[val])\n",
    "plt.ylim(0,1)"
   ]
  }
 ],
 "metadata": {
  "kernelspec": {
   "display_name": "Python 3",
   "language": "python",
   "name": "python3"
  },
  "language_info": {
   "codemirror_mode": {
    "name": "ipython",
    "version": 3
   },
   "file_extension": ".py",
   "mimetype": "text/x-python",
   "name": "python",
   "nbconvert_exporter": "python",
   "pygments_lexer": "ipython3",
   "version": "3.6.5"
  }
 },
 "nbformat": 4,
 "nbformat_minor": 2
}
