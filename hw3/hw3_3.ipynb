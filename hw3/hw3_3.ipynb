{
 "cells": [
  {
   "cell_type": "code",
   "execution_count": 1,
   "metadata": {},
   "outputs": [
    {
     "data": {
      "text/html": [
       "<style>.container { width:100% !important; }</style>"
      ],
      "text/plain": [
       "<IPython.core.display.HTML object>"
      ]
     },
     "metadata": {},
     "output_type": "display_data"
    }
   ],
   "source": [
    "from IPython.core.display import display, HTML\n",
    "display(HTML(\"<style>.container { width:100% !important; }</style>\"))"
   ]
  },
  {
   "cell_type": "code",
   "execution_count": 1,
   "metadata": {},
   "outputs": [],
   "source": [
    "import numpy as np\n",
    "import matplotlib.pyplot as plt\n",
    "import pandas as pd\n",
    "import datetime\n",
    "from sklearn.preprocessing import MinMaxScaler\n",
    "from sklearn.model_selection import train_test_split\n",
    "import tensorflow as tf\n",
    "from random import shuffle"
   ]
  },
  {
   "cell_type": "markdown",
   "metadata": {},
   "source": [
    "# Preprocess Data\n",
    "In the <b>HW3_template</b> folder you will find `TSLA.csv`, `GOOGL.csv` and `DJI.csv` files. Use Pandas (You have used it in HW1) to retrieve the dataset. Use only <b>Open</b> price as your input. (You will train three models for three different stocks, don't mix these data together!)"
   ]
  },
  {
   "cell_type": "code",
   "execution_count": 2,
   "metadata": {},
   "outputs": [],
   "source": [
    "tsla_data = pd.read_csv('./TSLA.csv')\n",
    "goog_data = pd.read_csv('./GOOGL.csv')\n",
    "dji_data = pd.read_csv('./DJI.csv')"
   ]
  },
  {
   "cell_type": "markdown",
   "metadata": {},
   "source": [
    "## Normalize your data\n",
    "You could use `MinMaxScaler` in `sklearn.preprocessing` to normalize the data between 0 and 1."
   ]
  },
  {
   "cell_type": "code",
   "execution_count": 3,
   "metadata": {},
   "outputs": [
    {
     "name": "stderr",
     "output_type": "stream",
     "text": [
      "/usr/lusers/dcashon/.conda/envs/neural_nets/lib/python3.6/site-packages/sklearn/preprocessing/data.py:334: DataConversionWarning: Data with input dtype int64, float64 were all converted to float64 by MinMaxScaler.\n",
      "  return self.partial_fit(X, y)\n",
      "/usr/lusers/dcashon/.conda/envs/neural_nets/lib/python3.6/site-packages/sklearn/preprocessing/data.py:334: DataConversionWarning: Data with input dtype int64, float64 were all converted to float64 by MinMaxScaler.\n",
      "  return self.partial_fit(X, y)\n",
      "/usr/lusers/dcashon/.conda/envs/neural_nets/lib/python3.6/site-packages/sklearn/preprocessing/data.py:334: DataConversionWarning: Data with input dtype int64, float64 were all converted to float64 by MinMaxScaler.\n",
      "  return self.partial_fit(X, y)\n"
     ]
    }
   ],
   "source": [
    "scaler = MinMaxScaler()\n",
    "tsla_open = scaler.fit_transform(tsla_data.iloc[:,1:])[:,0]\n",
    "goog_open = scaler.fit_transform(goog_data.iloc[:, 1:])[:,0]\n",
    "dji_open = scaler.fit_transform(dji_data.iloc[:,1:])[:,0]"
   ]
  },
  {
   "cell_type": "code",
   "execution_count": 4,
   "metadata": {},
   "outputs": [
    {
     "name": "stdout",
     "output_type": "stream",
     "text": [
      "(8636,)\n",
      "(2227,)\n",
      "(3702,)\n"
     ]
    },
    {
     "data": {
      "image/png": "[encoded data removed]",
      "text/plain": [
       "<Figure size 432x288 with 1 Axes>"
      ]
     },
     "metadata": {
      "needs_background": "light"
     },
     "output_type": "display_data"
    }
   ],
   "source": [
    "# quick viz\n",
    "plt.plot(tsla_open)\n",
    "plt.plot(goog_open)\n",
    "plt.plot(dji_open)\n",
    "print(dji_open.shape)\n",
    "print(tsla_open.shape)\n",
    "print(goog_open.shape)\n"
   ]
  },
  {
   "cell_type": "markdown",
   "metadata": {},
   "source": [
    "# Split training, validation and testing data\n",
    "<p style=\"font-size:20px\">Since you will impelement a many-to-one Recurrent Neural Network model, every input data will have shape [batch_size, num_seq, input_size] and output data will have shape [batch_size, input_size] "
   ]
  },
  {
   "cell_type": "code",
   "execution_count": 100,
   "metadata": {},
   "outputs": [],
   "source": [
    "def split(data, size):\n",
    "    \"\"\"\n",
    "    If data is a list, will split all (e.g. we use all the tsla, goog, dji data)\n",
    "    Parameters:\n",
    "        -data: 1D numpy array of opening price\n",
    "        -size: how many days back to use\n",
    "    Outputs:\n",
    "        -\n",
    "    \"\"\"\n",
    "    if isinstance(data, list):\n",
    "        print('Data is in list, concatenating...')\n",
    "        l_data = []\n",
    "        for d in data:\n",
    "            for i in range(size, len(data)):\n",
    "                l_data.append(d[i-size:i+1])\n",
    "    else:\n",
    "        l_data = []\n",
    "        for i in range(size, len(data)):\n",
    "            l_data.append(data[i-size:i+1])\n",
    "    np_data = np.vstack(l_data)\n",
    "    data, labels = np_data[:,:-1], np_data[:,-1]\n",
    "    x_train, x_temp, y_train, y_temp = train_test_split(data, labels, test_size=0.2)\n",
    "    x_val, x_test, y_val, y_test = train_test_split(x_temp, y_temp, test_size=0.5)\n",
    "    return x_train, y_train, x_val, y_val, x_test, y_test\n",
    "\n",
    "def minibatch(data, labels, batch_size):\n",
    "    start, end = 0, batch_size\n",
    "    while end < len(data):\n",
    "        yield data[start:end], labels[start:end]\n",
    "        start += batch_size\n",
    "        end += batch_size\n",
    "        \n",
    "        "
   ]
  },
  {
   "cell_type": "code",
   "execution_count": 109,
   "metadata": {},
   "outputs": [],
   "source": [
    "# get all the data ready\n",
    "num_days = 25 # number of days to predict back with\n",
    "x_tsla_train, y_tsla_train, x_tsla_val, y_tsla_val, x_tsla_test, y_tsla_test = split(tsla_open, num_days)\n",
    "x_goog_train, y_goog_train, x_goog_val, y_goog_val, x_goog_test, y_goog_test = split(goog_open, num_days)\n",
    "x_dji_train, y_dji_train, x_dji_val, y_dji_val, x_dji_test, y_dji_test = split(dji_open, num_days)"
   ]
  },
  {
   "cell_type": "markdown",
   "metadata": {},
   "source": [
    "# TensorFlow Model\n",
    "## Different model trained for each stock (3 total models)"
   ]
  },
  {
   "cell_type": "code",
   "execution_count": 112,
   "metadata": {},
   "outputs": [],
   "source": [
    "# hyperparameters\n",
    "num_epochs = 25 # found to be sufficient before val loss increase\n",
    "batch_size = 128\n",
    "lr = 0.001\n",
    "\n",
    "# model parameters\n",
    "tf.reset_default_graph()\n",
    "num_steps = num_days # number of days to use to predict\n",
    "num_inputs = 1 # scalar input (open price)\n",
    "num_neurons = 128 # recurrent neurons per cell\n",
    "num_outputs = 1\n",
    "\n",
    "# construct the graph\n",
    "tf.reset_default_graph()\n",
    "\n",
    "# placeholders for input stock data open prices\n",
    "X = tf.placeholder(tf.float32, shape=[None, num_steps, num_inputs])\n",
    "Y = tf.placeholder(tf.float32, shape=[None])\n",
    "\n",
    "# RNN\n",
    "cell = tf.contrib.rnn.BasicLSTMCell(num_units=num_neurons)\n",
    "outputs, states = tf.nn.dynamic_rnn(cell, X, dtype=tf.float32) #unwrap\n",
    "\n",
    "# fully connected layer at end-state to get scalar prediction of next stock value\n",
    "pred = tf.layers.dense(states[-1], num_outputs) # have to index into state to get hidden state for prediction use\n",
    "\n",
    "# loss\n",
    "loss = tf.reduce_mean(tf.square(pred - Y))\n",
    "opt = tf.train.AdamOptimizer(learning_rate=lr)\n",
    "minimize = opt.minimize(loss)\n"
   ]
  },
  {
   "cell_type": "markdown",
   "metadata": {},
   "source": [
    "# Training - TSLA Model"
   ]
  },
  {
   "cell_type": "code",
   "execution_count": 116,
   "metadata": {},
   "outputs": [
    {
     "name": "stdout",
     "output_type": "stream",
     "text": [
      "Training on Epoch: \t0\n",
      "0.22483853\n",
      "0.21378729\n",
      "0.15582961\n",
      "0.14104043\n",
      "0.14367582\n",
      "0.15677765\n",
      "0.14564702\n",
      "0.1353479\n",
      "0.1197232\n",
      "0.10848897\n",
      "0.13415773\n",
      "0.13491398\n",
      "0.12150433\n",
      "Train Batch Loss: \n",
      "0.12150433\n",
      "Val Loss\n",
      "0.12096821\n",
      "Training on Epoch: \t1\n",
      "Training on Epoch: \t2\n",
      "Training on Epoch: \t3\n",
      "Training on Epoch: \t4\n",
      "Training on Epoch: \t5\n",
      "Train Batch Loss: \n",
      "0.09996931\n",
      "Val Loss\n",
      "0.0921178\n",
      "Training on Epoch: \t6\n",
      "Training on Epoch: \t7\n",
      "Training on Epoch: \t8\n",
      "Training on Epoch: \t9\n",
      "Training on Epoch: \t10\n",
      "Train Batch Loss: \n",
      "0.10033425\n",
      "Val Loss\n",
      "0.09206222\n",
      "Training on Epoch: \t11\n",
      "Training on Epoch: \t12\n",
      "Training on Epoch: \t13\n",
      "Training on Epoch: \t14\n",
      "Training on Epoch: \t15\n",
      "Train Batch Loss: \n",
      "0.10029617\n",
      "Val Loss\n",
      "0.09206456\n",
      "Training on Epoch: \t16\n",
      "Training on Epoch: \t17\n",
      "Training on Epoch: \t18\n",
      "Training on Epoch: \t19\n",
      "Training on Epoch: \t20\n",
      "Train Batch Loss: \n",
      "0.10030939\n",
      "Val Loss\n",
      "0.09206439\n",
      "Training on Epoch: \t21\n",
      "Training on Epoch: \t22\n",
      "Training on Epoch: \t23\n",
      "Training on Epoch: \t24\n",
      "Test Loss\n",
      "0.09781251\n"
     ]
    }
   ],
   "source": [
    "init = tf.global_variables_initializer()\n",
    "with tf.Session() as sess:\n",
    "    sess.run(init)\n",
    "    for epoch in range(num_epochs):\n",
    "        print('Training on Epoch: \\t' + str(epoch))\n",
    "        batcher = minibatch(x_tsla_train, y_tsla_train, batch_size)\n",
    "        for data, labels in batcher:\n",
    "            f_dict = {X: np.reshape(data, (-1, num_days, 1)), Y:labels}\n",
    "            sess.run(minimize, feed_dict=f_dict)\n",
    "            if epoch == 0:\n",
    "                print(sess.run(loss, feed_dict=f_dict))\n",
    "        if epoch % 5 == 0:\n",
    "            print('Train Batch Loss: ')\n",
    "            print(sess.run(loss, feed_dict=f_dict))\n",
    "            print('Val Loss')\n",
    "            print(sess.run(loss, feed_dict={X:np.reshape(x_tsla_val,(-1, num_days,1)), Y:y_val}))\n",
    "    print(\"Test Loss\")\n",
    "    print(sess.run(loss, feed_dict={X:np.reshape(x_tsla_test, (-1,num_days,1)), Y:y_tsla_test}))\n",
    "    to_test = sess.run(pred, feed_dict={X:np.reshape(x_tsla_test, (-1,num_days,1)), Y:y_tsla_test})"
   ]
  },
  {
   "cell_type": "markdown",
   "metadata": {},
   "source": [
    "# Testing"
   ]
  },
  {
   "cell_type": "code",
   "execution_count": 117,
   "metadata": {},
   "outputs": [],
   "source": [
    "# plot error for 100 days of tesla predictions\n",
    "tsla_error = np.squeeze(to_test) - y_test"
   ]
  },
  {
   "cell_type": "code",
   "execution_count": 118,
   "metadata": {
    "scrolled": true
   },
   "outputs": [
    {
     "data": {
      "text/plain": [
       "(-1, 1)"
      ]
     },
     "execution_count": 118,
     "metadata": {},
     "output_type": "execute_result"
    },
    {
     "data": {
      "image/png": "[encoded data removed]",
      "text/plain": [
       "<Figure size 864x720 with 1 Axes>"
      ]
     },
     "metadata": {
      "needs_background": "light"
     },
     "output_type": "display_data"
    }
   ],
   "source": [
    "plt.figure(1, figsize=(12,10))\n",
    "plt.subplot(311)\n",
    "plt.scatter(np.arange(100),tsla_error[:100])\n",
    "plt.grid(True)\n",
    "plt.ylabel('Pred - Truth, Normalized Prediction')\n",
    "plt.title('Tesla Stock Prediction for 100 Days')\n",
    "plt.ylim(-1,1)"
   ]
  },
  {
   "cell_type": "markdown",
   "metadata": {},
   "source": [
    "# Training - GOOG Model (same as TSLA)"
   ]
  },
  {
   "cell_type": "code",
   "execution_count": 119,
   "metadata": {},
   "outputs": [
    {
     "name": "stdout",
     "output_type": "stream",
     "text": [
      "Training on Epoch: \t0\n",
      "0.1241747\n",
      "0.083963394\n",
      "0.101282924\n",
      "0.114170395\n",
      "0.09385728\n",
      "0.07657398\n",
      "0.100006066\n",
      "0.06693831\n",
      "0.07781768\n",
      "0.094553985\n",
      "0.0763934\n",
      "0.07361987\n",
      "0.0736037\n",
      "0.0688415\n",
      "0.072611704\n",
      "0.06882022\n",
      "0.06879629\n",
      "0.0841334\n",
      "0.045367457\n",
      "0.0497702\n",
      "0.06066726\n",
      "0.060777143\n",
      "Train Batch Loss: \n",
      "0.060777143\n",
      "Val Loss\n",
      "0.067140914\n",
      "Training on Epoch: \t1\n",
      "Training on Epoch: \t2\n",
      "Training on Epoch: \t3\n",
      "Training on Epoch: \t4\n",
      "Training on Epoch: \t5\n",
      "Train Batch Loss: \n",
      "0.05986226\n",
      "Val Loss\n",
      "0.06654154\n",
      "Training on Epoch: \t6\n",
      "Training on Epoch: \t7\n",
      "Training on Epoch: \t8\n",
      "Training on Epoch: \t9\n",
      "Training on Epoch: \t10\n",
      "Train Batch Loss: \n",
      "0.059856247\n",
      "Val Loss\n",
      "0.0665095\n",
      "Training on Epoch: \t11\n",
      "Training on Epoch: \t12\n",
      "Training on Epoch: \t13\n",
      "Training on Epoch: \t14\n",
      "Training on Epoch: \t15\n",
      "Train Batch Loss: \n",
      "0.05985206\n",
      "Val Loss\n",
      "0.066478215\n",
      "Training on Epoch: \t16\n",
      "Training on Epoch: \t17\n",
      "Training on Epoch: \t18\n",
      "Training on Epoch: \t19\n",
      "Training on Epoch: \t20\n",
      "Train Batch Loss: \n",
      "0.059850138\n",
      "Val Loss\n",
      "0.06645762\n",
      "Training on Epoch: \t21\n",
      "Training on Epoch: \t22\n",
      "Training on Epoch: \t23\n",
      "Training on Epoch: \t24\n",
      "Test Loss\n",
      "0.06950355\n"
     ]
    }
   ],
   "source": [
    "init = tf.global_variables_initializer()\n",
    "with tf.Session() as sess:\n",
    "    sess.run(init)\n",
    "    for epoch in range(num_epochs):\n",
    "        print('Training on Epoch: \\t' + str(epoch))\n",
    "        batcher = minibatch(x_goog_train, y_goog_train, batch_size)\n",
    "        for data, labels in batcher:\n",
    "            f_dict = {X: np.reshape(data, (-1, num_days, 1)), Y:labels}\n",
    "            sess.run(minimize, feed_dict=f_dict)\n",
    "            if epoch == 0:\n",
    "                print(sess.run(loss, feed_dict=f_dict))\n",
    "        if epoch % 5 == 0:\n",
    "            print('Train Batch Loss: ')\n",
    "            print(sess.run(loss, feed_dict=f_dict))\n",
    "            print('Val Loss')\n",
    "            print(sess.run(loss, feed_dict={X:np.reshape(x_goog_val,(-1, num_days,1)), Y:y_goog_val}))\n",
    "    print(\"Test Loss\")\n",
    "    print(sess.run(loss, feed_dict={X:np.reshape(x_goog_test, (-1,num_days,1)), Y:y_goog_test}))\n",
    "    to_test = sess.run(pred, feed_dict={X:np.reshape(x_goog_test, (-1,num_days,1)), Y:y_goog_test})"
   ]
  },
  {
   "cell_type": "markdown",
   "metadata": {},
   "source": [
    "# Test - Result GOOG Model"
   ]
  },
  {
   "cell_type": "code",
   "execution_count": 121,
   "metadata": {
    "scrolled": true
   },
   "outputs": [
    {
     "data": {
      "text/plain": [
       "(-1, 1)"
      ]
     },
     "execution_count": 121,
     "metadata": {},
     "output_type": "execute_result"
    },
    {
     "data": {
      "image/png": "[encoded data removed]",
      "text/plain": [
       "<Figure size 864x720 with 1 Axes>"
      ]
     },
     "metadata": {
      "needs_background": "light"
     },
     "output_type": "display_data"
    }
   ],
   "source": [
    "goog_error = np.squeeze(to_test) - y_goog_test\n",
    "plt.figure(2, figsize=(12,10))\n",
    "plt.subplot(311)\n",
    "plt.scatter(np.arange(100),goog_error[:100])\n",
    "plt.grid(True)\n",
    "plt.ylabel('Pred - Truth, Normalized Prediction')\n",
    "plt.title('GOOG Stock Prediction for 100 Days')\n",
    "plt.ylim(-1,1)"
   ]
  },
  {
   "cell_type": "markdown",
   "metadata": {},
   "source": [
    "# Training - DJI Model (same)"
   ]
  },
  {
   "cell_type": "code",
   "execution_count": 123,
   "metadata": {},
   "outputs": [
    {
     "name": "stdout",
     "output_type": "stream",
     "text": [
      "Training on Epoch: \t0\n",
      "0.14624174\n",
      "0.12858514\n",
      "0.10336575\n",
      "0.08384827\n",
      "0.09316382\n",
      "0.09614943\n",
      "0.08651568\n",
      "0.0832769\n",
      "0.06393331\n",
      "0.06754327\n",
      "0.07885602\n",
      "0.063172236\n",
      "0.05568865\n",
      "0.06926267\n",
      "0.062135063\n",
      "0.045616426\n",
      "0.07158909\n",
      "0.06139902\n",
      "0.052418735\n",
      "0.06250182\n",
      "0.06300313\n",
      "0.06837976\n",
      "0.059546817\n",
      "0.06892114\n",
      "0.0546778\n",
      "0.07494967\n",
      "0.062090017\n",
      "0.05307536\n",
      "0.05471333\n",
      "0.050857373\n",
      "0.05314995\n",
      "0.0717292\n",
      "0.065445706\n",
      "0.06419829\n",
      "0.08369489\n",
      "0.07438358\n",
      "0.06308775\n",
      "0.058043703\n",
      "0.071130194\n",
      "0.054381408\n",
      "0.05403556\n",
      "0.069683135\n",
      "0.053404942\n",
      "0.06392496\n",
      "0.05604473\n",
      "0.048932485\n",
      "0.052162774\n",
      "0.052457847\n",
      "0.059413936\n",
      "0.053559028\n",
      "0.05414702\n",
      "0.04138368\n",
      "0.050097577\n",
      "Train Batch Loss: \n",
      "0.050097577\n",
      "Val Loss\n",
      "0.05491213\n",
      "Training on Epoch: \t1\n",
      "Training on Epoch: \t2\n",
      "Training on Epoch: \t3\n",
      "Training on Epoch: \t4\n",
      "Training on Epoch: \t5\n",
      "Train Batch Loss: \n",
      "0.04982573\n",
      "Val Loss\n",
      "0.053866014\n",
      "Training on Epoch: \t6\n",
      "Training on Epoch: \t7\n",
      "Training on Epoch: \t8\n",
      "Training on Epoch: \t9\n",
      "Training on Epoch: \t10\n",
      "Train Batch Loss: \n",
      "0.049849495\n",
      "Val Loss\n",
      "0.05358632\n",
      "Training on Epoch: \t11\n",
      "Training on Epoch: \t12\n",
      "Training on Epoch: \t13\n",
      "Training on Epoch: \t14\n",
      "Training on Epoch: \t15\n",
      "Train Batch Loss: \n",
      "0.049893573\n",
      "Val Loss\n",
      "0.05344859\n",
      "Training on Epoch: \t16\n",
      "Training on Epoch: \t17\n",
      "Training on Epoch: \t18\n",
      "Training on Epoch: \t19\n",
      "Training on Epoch: \t20\n",
      "Train Batch Loss: \n",
      "0.04992765\n",
      "Val Loss\n",
      "0.05338167\n",
      "Training on Epoch: \t21\n",
      "Training on Epoch: \t22\n",
      "Training on Epoch: \t23\n",
      "Training on Epoch: \t24\n",
      "Test Loss\n",
      "0.056236297\n"
     ]
    }
   ],
   "source": [
    "init = tf.global_variables_initializer()\n",
    "with tf.Session() as sess:\n",
    "    sess.run(init)\n",
    "    for epoch in range(num_epochs):\n",
    "        print('Training on Epoch: \\t' + str(epoch))\n",
    "        batcher = minibatch(x_dji_train, y_dji_train, batch_size)\n",
    "        for data, labels in batcher:\n",
    "            f_dict = {X: np.reshape(data, (-1, num_days, 1)), Y:labels}\n",
    "            sess.run(minimize, feed_dict=f_dict)\n",
    "            if epoch == 0:\n",
    "                print(sess.run(loss, feed_dict=f_dict))\n",
    "        if epoch % 5 == 0:\n",
    "            print('Train Batch Loss: ')\n",
    "            print(sess.run(loss, feed_dict=f_dict))\n",
    "            print('Val Loss')\n",
    "            print(sess.run(loss, feed_dict={X:np.reshape(x_dji_val,(-1, num_days,1)), Y:y_dji_val}))\n",
    "    print(\"Test Loss\")\n",
    "    print(sess.run(loss, feed_dict={X:np.reshape(x_dji_test, (-1,num_days,1)), Y:y_dji_test}))\n",
    "    to_test = sess.run(pred, feed_dict={X:np.reshape(x_dji_test, (-1,num_days,1)), Y:y_dji_test})"
   ]
  },
  {
   "cell_type": "markdown",
   "metadata": {},
   "source": [
    "# Test - Result DJI Model"
   ]
  },
  {
   "cell_type": "code",
   "execution_count": 124,
   "metadata": {},
   "outputs": [
    {
     "data": {
      "text/plain": [
       "(-1, 1)"
      ]
     },
     "execution_count": 124,
     "metadata": {},
     "output_type": "execute_result"
    },
    {
     "data": {
      "image/png": "[encoded data removed]",
      "text/plain": [
       "<Figure size 864x720 with 1 Axes>"
      ]
     },
     "metadata": {
      "needs_background": "light"
     },
     "output_type": "display_data"
    }
   ],
   "source": [
    "dji_error = np.squeeze(to_test) - y_dji_test\n",
    "plt.figure(2, figsize=(12,10))\n",
    "plt.subplot(311)\n",
    "plt.scatter(np.arange(100),dji_error[:100])\n",
    "plt.grid(True)\n",
    "plt.ylabel('Pred - Truth, Normalized Prediction')\n",
    "plt.title('DJI Idx Prediction for 100 Days')\n",
    "plt.ylim(-1,1)"
   ]
  }
 ],
 "metadata": {
  "kernelspec": {
   "display_name": "Python 3",
   "language": "python",
   "name": "python3"
  },
  "language_info": {
   "codemirror_mode": {
    "name": "ipython",
    "version": 3
   },
   "file_extension": ".py",
   "mimetype": "text/x-python",
   "name": "python",
   "nbconvert_exporter": "python",
   "pygments_lexer": "ipython3",
   "version": "3.6.8"
  }
 },
 "nbformat": 4,
 "nbformat_minor": 2
}
