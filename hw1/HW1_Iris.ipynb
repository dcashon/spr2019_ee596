{
 "cells": [
  {
   "cell_type": "code",
   "execution_count": 1,
   "metadata": {},
   "outputs": [],
   "source": [
    "import tensorflow as tf\n",
    "import numpy as np\n",
    "import pandas as pd\n",
    "from pandas import get_dummies\n",
    "import matplotlib.pyplot as plt\n",
    "from sklearn.model_selection import train_test_split\n",
    "import seaborn as sns\n",
    "sns.set() # plot styling"
   ]
  },
  {
   "cell_type": "markdown",
   "metadata": {},
   "source": [
    "<h1>Load data</h1>"
   ]
  },
  {
   "cell_type": "code",
   "execution_count": 2,
   "metadata": {},
   "outputs": [],
   "source": [
    "file_name = \"iris.data.csv\""
   ]
  },
  {
   "cell_type": "code",
   "execution_count": 3,
   "metadata": {},
   "outputs": [
    {
     "data": {
      "text/html": [
       "<div>\n",
       "<style scoped>\n",
       "    .dataframe tbody tr th:only-of-type {\n",
       "        vertical-align: middle;\n",
       "    }\n",
       "\n",
       "    .dataframe tbody tr th {\n",
       "        vertical-align: top;\n",
       "    }\n",
       "\n",
       "    .dataframe thead th {\n",
       "        text-align: right;\n",
       "    }\n",
       "</style>\n",
       "<table border=\"1\" class=\"dataframe\">\n",
       "  <thead>\n",
       "    <tr style=\"text-align: right;\">\n",
       "      <th></th>\n",
       "      <th>sepal_length</th>\n",
       "      <th>sepal_width</th>\n",
       "      <th>petal_length</th>\n",
       "      <th>petal_width</th>\n",
       "      <th>species</th>\n",
       "    </tr>\n",
       "  </thead>\n",
       "  <tbody>\n",
       "    <tr>\n",
       "      <th>0</th>\n",
       "      <td>5.1</td>\n",
       "      <td>3.5</td>\n",
       "      <td>1.4</td>\n",
       "      <td>0.2</td>\n",
       "      <td>Iris-setosa</td>\n",
       "    </tr>\n",
       "    <tr>\n",
       "      <th>1</th>\n",
       "      <td>4.9</td>\n",
       "      <td>3.0</td>\n",
       "      <td>1.4</td>\n",
       "      <td>0.2</td>\n",
       "      <td>Iris-setosa</td>\n",
       "    </tr>\n",
       "    <tr>\n",
       "      <th>2</th>\n",
       "      <td>4.7</td>\n",
       "      <td>3.2</td>\n",
       "      <td>1.3</td>\n",
       "      <td>0.2</td>\n",
       "      <td>Iris-setosa</td>\n",
       "    </tr>\n",
       "    <tr>\n",
       "      <th>3</th>\n",
       "      <td>4.6</td>\n",
       "      <td>3.1</td>\n",
       "      <td>1.5</td>\n",
       "      <td>0.2</td>\n",
       "      <td>Iris-setosa</td>\n",
       "    </tr>\n",
       "    <tr>\n",
       "      <th>4</th>\n",
       "      <td>5.0</td>\n",
       "      <td>3.6</td>\n",
       "      <td>1.4</td>\n",
       "      <td>0.2</td>\n",
       "      <td>Iris-setosa</td>\n",
       "    </tr>\n",
       "  </tbody>\n",
       "</table>\n",
       "</div>"
      ],
      "text/plain": [
       "   sepal_length  sepal_width  petal_length  petal_width      species\n",
       "0           5.1          3.5           1.4          0.2  Iris-setosa\n",
       "1           4.9          3.0           1.4          0.2  Iris-setosa\n",
       "2           4.7          3.2           1.3          0.2  Iris-setosa\n",
       "3           4.6          3.1           1.5          0.2  Iris-setosa\n",
       "4           5.0          3.6           1.4          0.2  Iris-setosa"
      ]
     },
     "execution_count": 3,
     "metadata": {},
     "output_type": "execute_result"
    }
   ],
   "source": [
    "#load the dataset into memory\n",
    "dataset = pd.read_csv(file_name,header=None,\\\n",
    "                      names=['sepal_length','sepal_width','petal_length','petal_width','species'])\n",
    "#check several examples of data\n",
    "dataset.head()"
   ]
  },
  {
   "cell_type": "markdown",
   "metadata": {},
   "source": [
    "<h1>Data preprocessing</h1>"
   ]
  },
  {
   "cell_type": "code",
   "execution_count": 4,
   "metadata": {},
   "outputs": [],
   "source": [
    "#simple function to process the data.\n",
    "\"\"\"\n",
    "input:\n",
    "    data: iris dataset\n",
    "    num_features: 2 => select only petal width and petal width.\n",
    "                  4 => select all features\n",
    "    flower: 'Iris-setosa' => labels of Iris-setosa will be 1 and others will be 0\n",
    "            'Iris-virginica' => labels of Iris-virginica will be 1 and others will be 0\n",
    "            'None' => use one-hot encoding to represent the labels\n",
    "\n",
    "return:\n",
    "    x: normalized & shuffled data\n",
    "    y: labels\n",
    "\"\"\"\n",
    "def data_preprocessing(data,num_features,flower=None):\n",
    "    if num_features==2:\n",
    "        features = data.columns[2:4]\n",
    "    else:\n",
    "        features = data.columns[0:4]\n",
    "    labels = dataset.columns[4]\n",
    "    print(features)\n",
    "    print(labels)\n",
    "    #normalize the data\n",
    "    data_norm = pd.DataFrame(data)\n",
    "    for feature in features:\n",
    "        data[feature] = (data[feature]-data[feature].mean())/data[feature].std()\n",
    "\n",
    "    #shuffle the data\n",
    "    indices = data_norm.index.tolist()\n",
    "    indices = np.array(indices)\n",
    "    np.random.shuffle(indices)\n",
    "    x = data_norm.reindex(indices)[features]\n",
    "    y = data_norm.reindex(indices)[labels]\n",
    "    if flower=='Iris-setosa':\n",
    "        for i in range(len(y)):\n",
    "            y[i]=1 if y[i]=='Iris-setosa' else 0\n",
    "        y = y.values.reshape(len(y),1)\n",
    "    elif flower=='Iris-virginica':\n",
    "        for i in range(len(y)):\n",
    "            y[i]=1 if y[i]=='Iris-virginica' else 0\n",
    "        y = y.values.reshape(len(y),1)\n",
    "    else:\n",
    "        y = get_dummies(y)\n",
    "    return x,y"
   ]
  },
  {
   "cell_type": "markdown",
   "metadata": {},
   "source": [
    "<h1>Part a:"
   ]
  },
  {
   "cell_type": "code",
   "execution_count": 9,
   "metadata": {
    "scrolled": true
   },
   "outputs": [
    {
     "name": "stdout",
     "output_type": "stream",
     "text": [
      "Index(['petal_length', 'petal_width'], dtype='object')\n",
      "species\n"
     ]
    }
   ],
   "source": [
    "x_1,y_1 = data_preprocessing(dataset,2,flower='Iris-setosa')\n",
    "#generate traning and validation sets\n",
    "x_train_1, x_test_1, y_train_1, y_test_1 = train_test_split(x_1,y_1,test_size=0.3)"
   ]
  },
  {
   "cell_type": "code",
   "execution_count": 10,
   "metadata": {},
   "outputs": [
    {
     "data": {
      "text/html": [
       "<div>\n",
       "<style scoped>\n",
       "    .dataframe tbody tr th:only-of-type {\n",
       "        vertical-align: middle;\n",
       "    }\n",
       "\n",
       "    .dataframe tbody tr th {\n",
       "        vertical-align: top;\n",
       "    }\n",
       "\n",
       "    .dataframe thead th {\n",
       "        text-align: right;\n",
       "    }\n",
       "</style>\n",
       "<table border=\"1\" class=\"dataframe\">\n",
       "  <thead>\n",
       "    <tr style=\"text-align: right;\">\n",
       "      <th></th>\n",
       "      <th>petal_length</th>\n",
       "      <th>petal_width</th>\n",
       "    </tr>\n",
       "  </thead>\n",
       "  <tbody>\n",
       "    <tr>\n",
       "      <th>9</th>\n",
       "      <td>-1.280118</td>\n",
       "      <td>-1.439627</td>\n",
       "    </tr>\n",
       "    <tr>\n",
       "      <th>147</th>\n",
       "      <td>0.816888</td>\n",
       "      <td>1.050019</td>\n",
       "    </tr>\n",
       "    <tr>\n",
       "      <th>2</th>\n",
       "      <td>-1.393470</td>\n",
       "      <td>-1.308593</td>\n",
       "    </tr>\n",
       "    <tr>\n",
       "      <th>79</th>\n",
       "      <td>-0.146601</td>\n",
       "      <td>-0.260321</td>\n",
       "    </tr>\n",
       "    <tr>\n",
       "      <th>60</th>\n",
       "      <td>-0.146601</td>\n",
       "      <td>-0.260321</td>\n",
       "    </tr>\n",
       "  </tbody>\n",
       "</table>\n",
       "</div>"
      ],
      "text/plain": [
       "     petal_length  petal_width\n",
       "9       -1.280118    -1.439627\n",
       "147      0.816888     1.050019\n",
       "2       -1.393470    -1.308593\n",
       "79      -0.146601    -0.260321\n",
       "60      -0.146601    -0.260321"
      ]
     },
     "execution_count": 10,
     "metadata": {},
     "output_type": "execute_result"
    }
   ],
   "source": [
    "x_train_1.head()"
   ]
  },
  {
   "cell_type": "markdown",
   "metadata": {},
   "source": [
    "<h2>Define hyper-parameters</h2>"
   ]
  },
  {
   "cell_type": "code",
   "execution_count": 11,
   "metadata": {},
   "outputs": [],
   "source": [
    "num_epochs = 100\n",
    "lr = 0.01"
   ]
  },
  {
   "cell_type": "markdown",
   "metadata": {},
   "source": [
    "<h2>Define Placeholder and Variables</h2>"
   ]
  },
  {
   "cell_type": "code",
   "execution_count": 12,
   "metadata": {},
   "outputs": [],
   "source": [
    "tf.reset_default_graph()\n",
    "x_in = tf.placeholder(tf.float32, shape=[None, 2])\n",
    "y_hat = tf.placeholder(tf.float32, shape=[None, 1])\n",
    "\n",
    "# perceptron just dot product + b\n",
    "w = tf.Variable(tf.random_normal(shape=[2,1]), tf.float32)\n",
    "b = tf.Variable(tf.zeros([1,1]),tf.float32)"
   ]
  },
  {
   "cell_type": "markdown",
   "metadata": {},
   "source": [
    "<h2>Define update rule and accuracy</h2>"
   ]
  },
  {
   "cell_type": "code",
   "execution_count": 13,
   "metadata": {},
   "outputs": [],
   "source": [
    "# copied and adapted from class sample code\n",
    "y = tf.round(tf.sigmoid(tf.add(tf.matmul(x_in, w),b)))\n",
    "#the error between target and logit\n",
    "error = y - y_hat\n",
    "\n",
    "#weight and bias update rule w(t+1) = w(t) + learning_rate * error * x\n",
    "dW = tf.matmul(tf.transpose(x_in),error)\n",
    "db = tf.reduce_sum(error,0)\n",
    "W_ = w + lr*dW\n",
    "b_ = b + lr*db\n",
    "\n",
    "#group two operations together\n",
    "step = tf.group(w.assign(W_), b.assign(b_))\n",
    "\n",
    "# accuracy measure, will divide later\n",
    "acc = tf.reduce_sum(tf.cast(tf.equal(y,y_hat), tf.float32))"
   ]
  },
  {
   "cell_type": "markdown",
   "metadata": {},
   "source": [
    "<h2>Execute training</h2>"
   ]
  },
  {
   "cell_type": "code",
   "execution_count": 72,
   "metadata": {
    "scrolled": false
   },
   "outputs": [
    {
     "name": "stdout",
     "output_type": "stream",
     "text": [
      "Error at given epoch: \t 95.0\n",
      "Error at given epoch: \t 35.0\n",
      "Error at given epoch: \t 0.0\n",
      "Error at given epoch: \t 0.0\n",
      "Error at given epoch: \t 0.0\n",
      "Error at given epoch: \t 0.0\n",
      "Error at given epoch: \t 1.0\n",
      "Error at given epoch: \t 1.0\n",
      "Error at given epoch: \t 2.0\n",
      "Error at given epoch: \t 2.0\n"
     ]
    }
   ],
   "source": [
    "#initialize tensorflow variables\n",
    "init = tf.global_variables_initializer()\n",
    "py_acc = []\n",
    "\n",
    "#start tensorflow session\n",
    "with tf.Session() as sess:\n",
    "    #run initialization\n",
    "    sess.run(init)\n",
    "    #training for number of iterations\n",
    "    for i in range(num_epochs):\n",
    "        #every iteration we run optimization on the training data X and labels Y\n",
    "        sess.run(step,feed_dict = {x_in: x_train_1, y_hat: y_train_1})\n",
    "        t_acc = sess.run(acc,feed_dict = {x_in: x_train_1, y_hat: y_train_1})\n",
    "        py_acc.append(t_acc)\n",
    "        if i % 10 == 0:\n",
    "            print('Error at given epoch: \\t ' + str(t_acc))\n",
    "        # need to compute the accuracy here\n",
    "    #after training, we acquire the weight and bias\n",
    "    #np.squeeze plays a role to get rid of the redundant dimension [i.e.make (2,1) be (2,)]\n",
    "    py_w = np.squeeze(sess.run(w))\n",
    "    py_b = np.squeeze(sess.run(b))\n",
    "    "
   ]
  },
  {
   "cell_type": "markdown",
   "metadata": {},
   "source": [
    "<h2>Plot</h2>\n",
    "\n",
    "For decision boundary, we solve:\n",
    "\n",
    "\\begin{equation}\n",
    "     sigmoid(x \\cdot w + b) = 0.5\n",
    "\\end{equation}\n",
    "\n",
    "Which has solution:\n",
    "\n",
    "   \\begin{equation}\n",
    "            x_1 = \\frac{-1}{w_1} (b + x_2 w_2)\n",
    "    \\end{equation}\n",
    "So we can plot it as a line."
   ]
  },
  {
   "cell_type": "code",
   "execution_count": 73,
   "metadata": {},
   "outputs": [
    {
     "name": "stdout",
     "output_type": "stream",
     "text": [
      "Test Error is: \t31.11111111111111\n"
     ]
    },
    {
     "data": {
      "text/plain": [
       "(-2, 2)"
      ]
     },
     "execution_count": 73,
     "metadata": {},
     "output_type": "execute_result"
    },
    {
     "data": {
      "image/png": "[encoded data removed]",
      "text/plain": [
       "<Figure size 1080x432 with 2 Axes>"
      ]
     },
     "metadata": {
      "needs_background": "light"
     },
     "output_type": "display_data"
    }
   ],
   "source": [
    "# accuracy curve, in terms of classification error percentage\n",
    "plt.figure(1, figsize=(15,6))\n",
    "plt.subplot(121)\n",
    "plt.plot(np.array(py_acc) / len(y_train_1))\n",
    "plt.xlabel('Epoch')\n",
    "plt.ylabel('Classification Error, Training Set [%]')\n",
    "\n",
    "def sigmoid(x):\n",
    "    return 1 / (1 + np.exp(-x))\n",
    "# compute test error\n",
    "pred = np.round(sigmoid(x_test_1 @ py_w + py_b))\n",
    "error = np.sum(pred - np.squeeze(y_test_1)) / y_test_1.shape[0]\n",
    "\n",
    "print('Test Error is: \\t' + str(error * 100))\n",
    "\n",
    "# decision boundary\n",
    "plt.subplot(122)\n",
    "x2 = np.linspace(-2, 2, 20) # petal length\n",
    "x1 = (-1 / py_w[0]) * (py_b + x2 * py_w[1])\n",
    "plt.plot(x1, x2, label='Decision Boundary')\n",
    "plt.xlabel('Petal Length')\n",
    "plt.ylabel('Petal Width')\n",
    "# class 1 indices\n",
    "idx_1 = np.where(np.squeeze(y_train_1) == 0)[0] # not setosa\n",
    "idx_2 = np.where(np.squeeze(y_train_1) == 1)[0] # setosa\n",
    "plt.scatter(x_train_1.petal_length.iloc[idx_1], x_train_1.petal_width.iloc[idx_1], label='Petal Features, Train, Not Setosa', marker='x')\n",
    "plt.scatter(x_train_1.petal_length.iloc[idx_2], x_train_1.petal_width.iloc[idx_2], label='Petal Features, Train, Setosa', marker='o')\n",
    "plt.scatter\n",
    "plt.legend(loc=('upper left'))\n",
    "plt.xlim(-2,2)"
   ]
  },
  {
   "cell_type": "markdown",
   "metadata": {},
   "source": [
    "<h1>Part b:</h1>"
   ]
  },
  {
   "cell_type": "code",
   "execution_count": 74,
   "metadata": {},
   "outputs": [
    {
     "name": "stdout",
     "output_type": "stream",
     "text": [
      "Index(['petal_length', 'petal_width'], dtype='object')\n",
      "species\n"
     ]
    }
   ],
   "source": [
    "x_2,y_2 = data_preprocessing(dataset,2,flower='Iris-virginica')\n",
    "#generate traning and validation sets\n",
    "x_train_2, x_test_2, y_train_2, y_test_2 = train_test_split(x_2,y_2,test_size=0.3)"
   ]
  },
  {
   "cell_type": "code",
   "execution_count": 75,
   "metadata": {},
   "outputs": [
    {
     "data": {
      "text/html": [
       "<div>\n",
       "<style scoped>\n",
       "    .dataframe tbody tr th:only-of-type {\n",
       "        vertical-align: middle;\n",
       "    }\n",
       "\n",
       "    .dataframe tbody tr th {\n",
       "        vertical-align: top;\n",
       "    }\n",
       "\n",
       "    .dataframe thead th {\n",
       "        text-align: right;\n",
       "    }\n",
       "</style>\n",
       "<table border=\"1\" class=\"dataframe\">\n",
       "  <thead>\n",
       "    <tr style=\"text-align: right;\">\n",
       "      <th></th>\n",
       "      <th>petal_length</th>\n",
       "      <th>petal_width</th>\n",
       "    </tr>\n",
       "  </thead>\n",
       "  <tbody>\n",
       "    <tr>\n",
       "      <th>15</th>\n",
       "      <td>-1.280118</td>\n",
       "      <td>-1.046525</td>\n",
       "    </tr>\n",
       "    <tr>\n",
       "      <th>128</th>\n",
       "      <td>1.043591</td>\n",
       "      <td>1.181053</td>\n",
       "    </tr>\n",
       "    <tr>\n",
       "      <th>121</th>\n",
       "      <td>0.646860</td>\n",
       "      <td>1.050019</td>\n",
       "    </tr>\n",
       "    <tr>\n",
       "      <th>62</th>\n",
       "      <td>0.136778</td>\n",
       "      <td>-0.260321</td>\n",
       "    </tr>\n",
       "    <tr>\n",
       "      <th>14</th>\n",
       "      <td>-1.450146</td>\n",
       "      <td>-1.308593</td>\n",
       "    </tr>\n",
       "  </tbody>\n",
       "</table>\n",
       "</div>"
      ],
      "text/plain": [
       "     petal_length  petal_width\n",
       "15      -1.280118    -1.046525\n",
       "128      1.043591     1.181053\n",
       "121      0.646860     1.050019\n",
       "62       0.136778    -0.260321\n",
       "14      -1.450146    -1.308593"
      ]
     },
     "execution_count": 75,
     "metadata": {},
     "output_type": "execute_result"
    }
   ],
   "source": [
    "x_train_2.head()"
   ]
  },
  {
   "cell_type": "markdown",
   "metadata": {},
   "source": [
    "<h2>Define hyper-parameter</h2>"
   ]
  },
  {
   "cell_type": "code",
   "execution_count": 76,
   "metadata": {},
   "outputs": [],
   "source": [
    "num_epochs = 100\n",
    "lr = 0.01"
   ]
  },
  {
   "cell_type": "markdown",
   "metadata": {},
   "source": [
    "<h2>Define Placeholder and Variables</h2>"
   ]
  },
  {
   "cell_type": "code",
   "execution_count": 77,
   "metadata": {},
   "outputs": [],
   "source": [
    "tf.reset_default_graph()\n",
    "# implementing single perceptron, same as before, code copied\n",
    "x_in = tf.placeholder(tf.float32, shape=[None, 2])\n",
    "y_hat = tf.placeholder(tf.float32, shape=[None, 1])\n",
    "\n",
    "# perceptron just dot product + b\n",
    "w = tf.Variable(tf.random_normal(shape=[2,1]), tf.float32)\n",
    "b = tf.Variable(tf.zeros([1,1]),tf.float32)\n"
   ]
  },
  {
   "cell_type": "markdown",
   "metadata": {},
   "source": [
    "<h2>Define update rule and accuracy</h2>"
   ]
  },
  {
   "cell_type": "code",
   "execution_count": 78,
   "metadata": {},
   "outputs": [],
   "source": [
    "# same as case 1, still single perceptron\n",
    "# copied and adapted from class sample code\n",
    "y = tf.round(tf.sigmoid(tf.add(tf.matmul(x_in, w),b)))\n",
    "#the error between target and logit\n",
    "error = y - y_hat\n",
    "\n",
    "#weight and bias update rule w(t+1) = w(t) + learning_rate * error * x\n",
    "dW = tf.matmul(tf.transpose(x_in),error)\n",
    "db = tf.reduce_sum(error,0)\n",
    "W_ = w + lr*dW\n",
    "b_ = b + lr*db\n",
    "\n",
    "#group two operations together\n",
    "step = tf.group(w.assign(W_), b.assign(b_))\n",
    "\n",
    "# accuracy measure, will divide later\n",
    "acc = tf.reduce_sum(tf.cast(tf.equal(y,y_hat), tf.float32))"
   ]
  },
  {
   "cell_type": "markdown",
   "metadata": {},
   "source": [
    "<h2>Execute training</h2>"
   ]
  },
  {
   "cell_type": "code",
   "execution_count": 81,
   "metadata": {},
   "outputs": [
    {
     "name": "stdout",
     "output_type": "stream",
     "text": [
      "Error at given epoch: \t 75.0\n",
      "Error at given epoch: \t 70.0\n",
      "Error at given epoch: \t 38.0\n",
      "Error at given epoch: \t 38.0\n",
      "Error at given epoch: \t 38.0\n",
      "Error at given epoch: \t 38.0\n",
      "Error at given epoch: \t 35.0\n",
      "Error at given epoch: \t 29.0\n",
      "Error at given epoch: \t 17.0\n",
      "Error at given epoch: \t 15.0\n",
      "[-30.190685 -36.040703]\n",
      "54.860004\n"
     ]
    }
   ],
   "source": [
    "# nearly same, feed_dict populated with the new data\n",
    "#initialize tensorflow variables\n",
    "init = tf.global_variables_initializer()\n",
    "py_acc = []\n",
    "\n",
    "#start tensorflow session\n",
    "with tf.Session() as sess:\n",
    "    #run initialization\n",
    "    sess.run(init)\n",
    "    #training for number of iterations\n",
    "    for i in range(num_epochs):\n",
    "        #every iteration we run optimization on the training data X and labels Y\n",
    "        sess.run(step,feed_dict = {x_in: x_train_2, y_hat: y_train_2}) # new data\n",
    "        t_acc = sess.run(acc,feed_dict = {x_in: x_train_2, y_hat: y_train_2})# new data\n",
    "        py_acc.append(t_acc)\n",
    "        if i % 10 == 0:\n",
    "            print('Error at given epoch: \\t ' + str(t_acc))\n",
    "        # need to compute the accuracy here\n",
    "    #after training, we acquire the weight and bias\n",
    "    #np.squeeze plays a role to get rid of the redundant dimension [i.e.make (2,1) be (2,)]\n",
    "    py_w = np.squeeze(sess.run(w))\n",
    "    py_b = np.squeeze(sess.run(b))\n",
    "print(py_w)\n",
    "print(py_b)"
   ]
  },
  {
   "cell_type": "markdown",
   "metadata": {},
   "source": [
    "<h2>Plot</h2>"
   ]
  },
  {
   "cell_type": "code",
   "execution_count": 82,
   "metadata": {
    "scrolled": false
   },
   "outputs": [
    {
     "name": "stdout",
     "output_type": "stream",
     "text": [
      "Test Error is: \t48.888888888888886\n"
     ]
    },
    {
     "data": {
      "text/plain": [
       "(-2, 2)"
      ]
     },
     "execution_count": 82,
     "metadata": {},
     "output_type": "execute_result"
    },
    {
     "data": {
      "image/png": "[encoded data removed]",
      "text/plain": [
       "<Figure size 1080x432 with 2 Axes>"
      ]
     },
     "metadata": {
      "needs_background": "light"
     },
     "output_type": "display_data"
    }
   ],
   "source": [
    "# accuracy curve, in terms of classification error percentage\n",
    "plt.figure(1, figsize=(15,6))\n",
    "plt.subplot(121)\n",
    "plt.plot(np.array(py_acc) / len(y_train_2))\n",
    "plt.xlabel('Epoch')\n",
    "plt.ylabel('Classification Error, Training Set [%]')\n",
    "\n",
    "def sigmoid(x):\n",
    "    return 1 / (1 + np.exp(-x))\n",
    "# compute test error\n",
    "pred = np.round(sigmoid(x_test_2 @ py_w + py_b))\n",
    "error = np.sum(pred - np.squeeze(y_test_2)) / y_test_2.shape[0]\n",
    "\n",
    "print('Test Error is: \\t' + str(error * 100))\n",
    "\n",
    "# decision boundary\n",
    "plt.subplot(122)\n",
    "x2 = np.linspace(-2, 2, 20) # petal length\n",
    "x1 = (-1 / py_w[0]) * (py_b + x2 * py_w[1])\n",
    "plt.plot(x1, x2, label='Decision Boundary')\n",
    "plt.xlabel('Petal Length')\n",
    "plt.ylabel('Petal Width')\n",
    "# class idx\n",
    "idx_1 = np.where(np.squeeze(y_train_2) == 0)[0]\n",
    "idx_2 = np.where(np.squeeze(y_train_2) == 1)[0]\n",
    "plt.scatter(x_train_2.petal_length.iloc[idx_1], x_train_2.petal_width.iloc[idx_1], label='Petal Features, Train, Not Virginica', marker='x')\n",
    "plt.scatter(x_train_2.petal_length.iloc[idx_2], x_train_2.petal_width.iloc[idx_2], label='Petal Features, Train, Virginica')\n",
    "#plt.scatter(x_test_2.petal_length, x_test_2.petal_width, label='Petal_Features, Test')\n",
    "# here I need to plot the type of flower as scatter style... this way to see seperability\n",
    "plt.legend(loc='upper left')\n",
    "plt.xlim(-2, 2)\n",
    "plt.ylim(-2,2)"
   ]
  },
  {
   "cell_type": "markdown",
   "metadata": {},
   "source": [
    "### Explanation\n",
    "Its clear from above plots that virginica vs non virginica is a more difficult case - since the data, at least when only using the two features petal length and petal width, is not really linearly separable for this case. Examination of setosa vs non-setosa (the first set of plots) shows a very clear cluster that is more easily linearly separable."
   ]
  },
  {
   "cell_type": "markdown",
   "metadata": {},
   "source": [
    "<h1>Part c:</h1>"
   ]
  },
  {
   "cell_type": "code",
   "execution_count": 83,
   "metadata": {},
   "outputs": [
    {
     "name": "stdout",
     "output_type": "stream",
     "text": [
      "Index(['sepal_length', 'sepal_width', 'petal_length', 'petal_width'], dtype='object')\n",
      "species\n"
     ]
    }
   ],
   "source": [
    "x_3,y_3 = data_preprocessing(dataset,4)\n",
    "#generate traning and validation sets\n",
    "x_train_3, x_test_3, y_train_3, y_test_3 = train_test_split(x_3,y_3,test_size=0.3)"
   ]
  },
  {
   "cell_type": "markdown",
   "metadata": {},
   "source": [
    "<h2>Define hyper-parameters</h2>"
   ]
  },
  {
   "cell_type": "code",
   "execution_count": 133,
   "metadata": {},
   "outputs": [],
   "source": [
    "num_epochs = 1000\n",
    "lr = 0.01"
   ]
  },
  {
   "cell_type": "markdown",
   "metadata": {},
   "source": [
    "<h2>Define placehoder and variables</h2>"
   ]
  },
  {
   "cell_type": "code",
   "execution_count": 134,
   "metadata": {},
   "outputs": [],
   "source": [
    "tf.reset_default_graph()\n",
    "\n",
    "x_in = tf.placeholder(tf.float32, shape=[None, 4]) # input data\n",
    "y_hat = tf.placeholder(tf.float32, shape=[None, 3]) # output classification, one-hot\n",
    "\n",
    "n1, n2 = 256, 128 # neurons in each layer\n",
    "\n",
    "# weights and biases\n",
    "# api suggests using get_variable, will try here, should work same except for different initialization\n",
    "w1 = tf.get_variable('weight1', [4, n1])\n",
    "b1 = tf.get_variable('bias1', [1,1])\n",
    "w2 = tf.get_variable('weight2', [n1, n2])\n",
    "b2 = tf.get_variable('bias2', [1,1])\n",
    "w_out = tf.get_variable('weight_out', [n2, 3])\n",
    "b_out = tf.get_variable('b_out', [1,1])"
   ]
  },
  {
   "cell_type": "markdown",
   "metadata": {},
   "source": [
    "<h2>Define the neural network</h2>"
   ]
  },
  {
   "cell_type": "code",
   "execution_count": 135,
   "metadata": {},
   "outputs": [],
   "source": [
    "# first layer\n",
    "n1_out = tf.nn.relu(tf.add(tf.matmul(x_in, w1), b1))\n",
    "# second layer\n",
    "n2_out = tf.nn.relu(tf.add(tf.matmul(n1_out, w2), b2))\n",
    "# output layer, leave softmax to tensorflow \n",
    "out = tf.add(tf.matmul(n2_out, w_out), b_out)"
   ]
  },
  {
   "cell_type": "markdown",
   "metadata": {},
   "source": [
    "<h2>Define cost function and accuracy</h2>"
   ]
  },
  {
   "cell_type": "code",
   "execution_count": 136,
   "metadata": {},
   "outputs": [],
   "source": [
    "# cost function\n",
    "cost = tf.reduce_mean(tf.nn.softmax_cross_entropy_with_logits_v2(labels=y_hat, logits=out))\n",
    "# optimize with standard gradient\n",
    "optimizer = tf.train.GradientDescentOptimizer(learning_rate=lr)\n",
    "train_op = optimizer.minimize(cost)\n",
    "\n",
    "# compare the predicted labels with true labels\n",
    "correct_pred = tf.equal(tf.argmax(out,1),tf.argmax(y_hat,1))\n",
    "\n",
    "# compute the accuracy by taking average\n",
    "accuracy = tf.reduce_mean(tf.cast(correct_pred,tf.float32),name='accuracy')\n"
   ]
  },
  {
   "cell_type": "markdown",
   "metadata": {},
   "source": [
    "<h2>Execute training</h2>"
   ]
  },
  {
   "cell_type": "code",
   "execution_count": 163,
   "metadata": {
    "scrolled": false
   },
   "outputs": [
    {
     "name": "stdout",
     "output_type": "stream",
     "text": [
      "Accuracy: \n",
      "0.3809524\n",
      "Accuracy: \n",
      "0.9142857\n",
      "Accuracy: \n",
      "0.95238096\n",
      "Accuracy: \n",
      "0.96190476\n",
      "Accuracy: \n",
      "0.96190476\n",
      "Accuracy: \n",
      "0.96190476\n",
      "Accuracy: \n",
      "0.96190476\n",
      "Accuracy: \n",
      "0.96190476\n",
      "Accuracy: \n",
      "0.96190476\n",
      "Accuracy: \n",
      "0.9714286\n",
      "Test Data Accuracy:\n",
      "0.9777778\n"
     ]
    }
   ],
   "source": [
    "# D. Cashon\n",
    "# Success depends somewhat on initialization. If poor, run again. (Observe stuck at 0.38)\n",
    "init = tf.global_variables_initializer()\n",
    "acc_holder = []\n",
    "with tf.Session() as sess:\n",
    "    sess.run(init)\n",
    "    for i in range(num_epochs):\n",
    "        # train\n",
    "        sess.run(train_op, feed_dict={x_in: x_train_3, y_hat: y_train_3})\n",
    "        acc = sess.run(accuracy, feed_dict={x_in: x_train_3, y_hat: y_train_3})\n",
    "        acc_holder.append(acc) # slower to compute accuracy each time, but OK \n",
    "        if i % 100 == 0:\n",
    "            # print accuracy\n",
    "            print('Accuracy: ')\n",
    "            print(acc)\n",
    "            #print('Cost: ')\n",
    "            #print(sess.run(cost, feed_dict={x_in: x_train_3, y_hat: y_train_3}))\n",
    "    # test accuracy\n",
    "    print('Test Data Accuracy:' )\n",
    "    print(sess.run(accuracy, feed_dict={x_in: x_test_3, y_hat: y_test_3}))"
   ]
  },
  {
   "cell_type": "markdown",
   "metadata": {},
   "source": [
    "<h2>Plot</h2>\n",
    "\n",
    "Accuracy vs Epochs Plot below"
   ]
  },
  {
   "cell_type": "code",
   "execution_count": 156,
   "metadata": {},
   "outputs": [
    {
     "data": {
      "text/plain": [
       "Text(0, 0.5, 'Classification Accuracy')"
      ]
     },
     "execution_count": 156,
     "metadata": {},
     "output_type": "execute_result"
    },
    {
     "data": {
      "image/png": "[encoded data removed]",
      "text/plain": [
       "<Figure size 864x720 with 1 Axes>"
      ]
     },
     "metadata": {
      "needs_background": "light"
     },
     "output_type": "display_data"
    }
   ],
   "source": [
    "plt.figure(1, figsize=(12,10))\n",
    "plt.plot(np.arange(len(acc_holder)), acc_holder)\n",
    "plt.xlabel('Number of Epochs')\n",
    "plt.ylabel('Classification Accuracy')"
   ]
  }
 ],
 "metadata": {
  "kernelspec": {
   "display_name": "Python 3",
   "language": "python",
   "name": "python3"
  },
  "language_info": {
   "codemirror_mode": {
    "name": "ipython",
    "version": 3
   },
   "file_extension": ".py",
   "mimetype": "text/x-python",
   "name": "python",
   "nbconvert_exporter": "python",
   "pygments_lexer": "ipython3",
   "version": "3.6.8"
  }
 },
 "nbformat": 4,
 "nbformat_minor": 2
}
