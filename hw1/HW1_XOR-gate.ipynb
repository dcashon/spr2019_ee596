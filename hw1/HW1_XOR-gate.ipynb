{
 "cells": [
  {
   "cell_type": "code",
   "execution_count": 1,
   "metadata": {},
   "outputs": [],
   "source": [
    "import tensorflow as tf\n",
    "import numpy as np\n",
    "import matplotlib.pyplot as plt"
   ]
  },
  {
   "cell_type": "markdown",
   "metadata": {},
   "source": [
    "<h2>Define Hyper-parameters</h2>"
   ]
  },
  {
   "cell_type": "code",
   "execution_count": 2,
   "metadata": {},
   "outputs": [],
   "source": [
    "num_epoch = 10000 # training iterations\n",
    "lr = 0.3 # empirically this number seems to work well"
   ]
  },
  {
   "cell_type": "markdown",
   "metadata": {},
   "source": [
    "<h2>Define your input data and expected labels</h2>"
   ]
  },
  {
   "cell_type": "code",
   "execution_count": 3,
   "metadata": {},
   "outputs": [],
   "source": [
    "# define input data and XOR gate outputs\n",
    "x = np.array([[0,0], [0,1], [1, 0], [1,1]], np.float32)\n",
    "y = np.array([[0], [1], [1] , [0]], np.float32)"
   ]
  },
  {
   "cell_type": "markdown",
   "metadata": {},
   "source": [
    "<h2>Define placeholder and Variables</h2>"
   ]
  },
  {
   "cell_type": "code",
   "execution_count": 4,
   "metadata": {},
   "outputs": [
    {
     "name": "stdout",
     "output_type": "stream",
     "text": [
      "WARNING:tensorflow:From C:\\Users\\dcash\\Anaconda3\\envs\\neural_nets\\lib\\site-packages\\tensorflow\\python\\framework\\op_def_library.py:263: colocate_with (from tensorflow.python.framework.ops) is deprecated and will be removed in a future version.\n",
      "Instructions for updating:\n",
      "Colocations handled automatically by placer.\n"
     ]
    }
   ],
   "source": [
    "tf.reset_default_graph() # reset\n",
    "# placeholders for feeding\n",
    "X_in = tf.placeholder(tf.float32, shape=(None,2))\n",
    "Y_hat = tf.placeholder(tf.float32, shape=(None,1))\n",
    "\n",
    "# neural net vars\n",
    "# hidden layer\n",
    "w1 = tf.Variable(tf.random_normal(shape=[2,2]), tf.float32)\n",
    "b1 = tf.Variable(tf.zeros([1,1]),tf.float32)\n",
    "\n",
    "# output layer\n",
    "wout = tf.Variable(tf.random_normal(shape=[2,1]), tf.float32)\n",
    "bout = tf.Variable(tf.zeros([1,1]), tf.float32)"
   ]
  },
  {
   "cell_type": "markdown",
   "metadata": {},
   "source": [
    "<h2>Define the neural network</h2>"
   ]
  },
  {
   "cell_type": "code",
   "execution_count": 5,
   "metadata": {},
   "outputs": [],
   "source": [
    "h_lay_out = tf.sigmoid(tf.add(tf.matmul(X_in, w1), b1)) # single hidden layer with sigmoid activation\n",
    "output = tf.add(tf.matmul(h_lay_out, wout), bout) # output layer, scalar, sigmoid for classification"
   ]
  },
  {
   "cell_type": "markdown",
   "metadata": {},
   "source": [
    "<h2>Define cost function</h2>"
   ]
  },
  {
   "cell_type": "code",
   "execution_count": 6,
   "metadata": {},
   "outputs": [],
   "source": [
    "# cross entropy as cost\n",
    "loss = tf.reduce_mean(tf.nn.sigmoid_cross_entropy_with_logits(logits=output,labels=Y_hat))\n",
    "\n",
    "#define loss\n",
    "optimizer = tf.train.GradientDescentOptimizer(learning_rate=lr)\n",
    "train_op = optimizer.minimize(loss)\n",
    "\n",
    "#compare the predicted labels with true labels (classification is round)\n",
    "correct_pred = tf.equal(tf.round(tf.sigmoid(output)),Y_hat)\n",
    "\n",
    "#compute the accuracy by taking average\n",
    "accuracy = tf.reduce_mean(tf.cast(correct_pred,tf.float32),name='accuracy')\n",
    "\n",
    "#Initialize the variables\n",
    "init = tf.global_variables_initializer()"
   ]
  },
  {
   "cell_type": "code",
   "execution_count": 7,
   "metadata": {},
   "outputs": [],
   "source": [
    "# create a grid to evaluate the decision boundary in the session\n",
    "x1 = np.linspace(0,1,100)\n",
    "x2 = np.linspace(0,1,100)\n",
    "X, Y = np.meshgrid(x1, x2)\n",
    "X_flat = np.reshape(X, (100**2, 1)) # flatten to pass\n",
    "Y_flat = np.reshape(Y, (100**2, 1)) # flatten to pass\n",
    "to_compute = np.concatenate((X_flat, Y_flat), axis=1)\n",
    "dummy_y = np.zeros((100**2, 1)) # dont care about acc, just output"
   ]
  },
  {
   "cell_type": "markdown",
   "metadata": {},
   "source": [
    "<h2>Execute training</h2>"
   ]
  },
  {
   "cell_type": "code",
   "execution_count": 12,
   "metadata": {
    "scrolled": false
   },
   "outputs": [
    {
     "name": "stdout",
     "output_type": "stream",
     "text": [
      "0.7118945\n",
      "[[False]\n",
      " [ True]\n",
      " [ True]\n",
      " [False]]\n",
      "Epoch 0, Accuracy= 0.500\n",
      "0.38653484\n",
      "[[ True]\n",
      " [ True]\n",
      " [ True]\n",
      " [ True]]\n",
      "Epoch 1000, Accuracy= 1.000\n",
      "0.050063454\n",
      "[[ True]\n",
      " [ True]\n",
      " [ True]\n",
      " [ True]]\n",
      "Epoch 2000, Accuracy= 1.000\n",
      "0.022136688\n",
      "[[ True]\n",
      " [ True]\n",
      " [ True]\n",
      " [ True]]\n",
      "Epoch 3000, Accuracy= 1.000\n",
      "0.01383904\n",
      "[[ True]\n",
      " [ True]\n",
      " [ True]\n",
      " [ True]]\n",
      "Epoch 4000, Accuracy= 1.000\n",
      "0.009973521\n",
      "[[ True]\n",
      " [ True]\n",
      " [ True]\n",
      " [ True]]\n",
      "Epoch 5000, Accuracy= 1.000\n",
      "0.007761596\n",
      "[[ True]\n",
      " [ True]\n",
      " [ True]\n",
      " [ True]]\n",
      "Epoch 6000, Accuracy= 1.000\n",
      "0.0063367975\n",
      "[[ True]\n",
      " [ True]\n",
      " [ True]\n",
      " [ True]]\n",
      "Epoch 7000, Accuracy= 1.000\n",
      "0.005345545\n",
      "[[ True]\n",
      " [ True]\n",
      " [ True]\n",
      " [ True]]\n",
      "Epoch 8000, Accuracy= 1.000\n",
      "0.004617522\n",
      "[[ True]\n",
      " [ True]\n",
      " [ True]\n",
      " [ True]]\n",
      "Epoch 9000, Accuracy= 1.000\n",
      "Training finished!\n"
     ]
    }
   ],
   "source": [
    "# sensitive to initialization conditions. Rerun until\n",
    "# proper convergence is observed\n",
    "with tf.Session() as sess:\n",
    "    sess.run(init)\n",
    "\n",
    "    for i in range(num_epoch):\n",
    "        sess.run(train_op, feed_dict={X_in: x, Y_hat: y})\n",
    "        if i % 1000 == 0:\n",
    "            # too many epochs to print each epoch\n",
    "            # loss, for observing convergence\n",
    "            print(sess.run(loss, feed_dict={X_in: x, Y_hat: y}))\n",
    "            # Output for input state\n",
    "            print(sess.run(correct_pred, feed_dict={X_in: x, Y_hat: y}))\n",
    "            # accuracy\n",
    "            acc = sess.run(accuracy,feed_dict={X_in: x, Y_hat: y})\n",
    "            print(\"Epoch \"+str(i)+\", Accuracy= {:.3f}\".format(acc))\n",
    "    # evaluate the model on the grid\n",
    "    out_grid = sess.run(output, feed_dict={X_in: to_compute, Y_hat: dummy_y})\n",
    "    print(\"Training finished!\")\n",
    "    "
   ]
  },
  {
   "cell_type": "markdown",
   "metadata": {},
   "source": [
    "<h2>Plot</h2>"
   ]
  },
  {
   "cell_type": "code",
   "execution_count": 14,
   "metadata": {},
   "outputs": [
    {
     "data": {
      "text/plain": [
       "Text(0.5, 1.0, 'XOR Gate Decision Boundary \\n Black Region = 0, White Region = 1')"
      ]
     },
     "execution_count": 14,
     "metadata": {},
     "output_type": "execute_result"
    },
    {
     "data": {
      "image/png": "[encoded data removed]",
      "text/plain": [
       "<Figure size 432x288 with 1 Axes>"
      ]
     },
     "metadata": {
      "needs_background": "light"
     },
     "output_type": "display_data"
    }
   ],
   "source": [
    "# sigmoid for modifying output\n",
    "def sigmoid(x):\n",
    "    return 1 / (1 + np.exp(-x))\n",
    "# reshape the x1, x2 pairs passed through the model\n",
    "r_grid = np.round(sigmoid(np.reshape(out_grid, (100,100))))\n",
    "plt.figure(1)\n",
    "# display decision boundary\n",
    "plt.pcolor(X, Y, r_grid, cmap='gray')\n",
    "plt.xlabel('x1')\n",
    "plt.ylabel('x2')\n",
    "plt.title('XOR Gate Decision Boundary \\n Black Region = 0, White Region = 1')"
   ]
  },
  {
   "cell_type": "code",
   "execution_count": null,
   "metadata": {},
   "outputs": [],
   "source": []
  }
 ],
 "metadata": {
  "kernelspec": {
   "display_name": "Python 3",
   "language": "python",
   "name": "python3"
  },
  "language_info": {
   "codemirror_mode": {
    "name": "ipython",
    "version": 3
   },
   "file_extension": ".py",
   "mimetype": "text/x-python",
   "name": "python",
   "nbconvert_exporter": "python",
   "pygments_lexer": "ipython3",
   "version": "3.6.8"
  }
 },
 "nbformat": 4,
 "nbformat_minor": 2
}
