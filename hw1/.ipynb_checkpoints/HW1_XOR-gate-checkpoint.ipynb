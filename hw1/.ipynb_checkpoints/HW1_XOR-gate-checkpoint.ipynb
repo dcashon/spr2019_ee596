{
 "cells": [
  {
   "cell_type": "code",
   "execution_count": 1,
   "metadata": {},
   "outputs": [],
   "source": [
    "import tensorflow as tf\n",
    "import numpy as np\n",
    "import matplotlib.pyplot as plt"
   ]
  },
  {
   "cell_type": "markdown",
   "metadata": {},
   "source": [
    "<h2>Define Hyper-parameters</h2>"
   ]
  },
  {
   "cell_type": "code",
   "execution_count": 13,
   "metadata": {},
   "outputs": [],
   "source": [
    "num_iter = 10000 #training iterations\n",
    "lr = 0.2"
   ]
  },
  {
   "cell_type": "markdown",
   "metadata": {},
   "source": [
    "<h2>Define your input data and expected labels</h2>"
   ]
  },
  {
   "cell_type": "code",
   "execution_count": 14,
   "metadata": {},
   "outputs": [],
   "source": [
    "# define input data and XOR gate outputs\n",
    "x = np.array([[0,0], [0,1], [1, 0], [1,1]], np.float32)\n",
    "y = np.array([[0], [1], [1] , [0]], np.float32)"
   ]
  },
  {
   "cell_type": "markdown",
   "metadata": {},
   "source": [
    "<h2>Define placeholder and Variables</h2>"
   ]
  },
  {
   "cell_type": "code",
   "execution_count": 15,
   "metadata": {},
   "outputs": [],
   "source": [
    "tf.reset_default_graph() # reset\n",
    "# placeholders for feeding\n",
    "X_in = tf.placeholder(tf.float32, shape=(4,2))\n",
    "Y_hat = tf.placeholder(tf.float32, shape=(4,1))\n",
    "\n",
    "# neural net vars\n",
    "# hidden layer\n",
    "w1 = tf.Variable(tf.random_normal(shape=[2,2]), tf.float32)\n",
    "b1 = tf.Variable(tf.zeros([1,1]),tf.float32)\n",
    "\n",
    "# output layer\n",
    "wout = tf.Variable(tf.random_normal(shape=[2,1]), tf.float32)\n",
    "bout = tf.Variable(tf.zeros([1,1]), tf.float32)"
   ]
  },
  {
   "cell_type": "markdown",
   "metadata": {},
   "source": [
    "<h2>Define the neural network</h2>"
   ]
  },
  {
   "cell_type": "code",
   "execution_count": 16,
   "metadata": {},
   "outputs": [],
   "source": [
    "h_lay_out = tf.sigmoid(tf.add(tf.matmul(X_in, w1), b1)) # single hidden layer with sigmoid activation\n",
    "output = tf.add(tf.matmul(h_lay_out, wout), bout) # output layer, scalar, sigmoid for classification"
   ]
  },
  {
   "cell_type": "markdown",
   "metadata": {},
   "source": [
    "<h2>Define cost function</h2>"
   ]
  },
  {
   "cell_type": "code",
   "execution_count": 17,
   "metadata": {},
   "outputs": [],
   "source": [
    "# cross entropy as cost\n",
    "loss = tf.reduce_mean(tf.nn.sigmoid_cross_entropy_with_logits(logits=output,labels=Y_hat))\n",
    "\n",
    "#define loss\n",
    "optimizer = tf.train.GradientDescentOptimizer(learning_rate=lr)\n",
    "train_op = optimizer.minimize(loss)\n",
    "\n",
    "#compare the predicted labels with true labels (classification is round)\n",
    "correct_pred = tf.equal(tf.round(tf.sigmoid(output)),Y_hat)\n",
    "\n",
    "#compute the accuracy by taking average\n",
    "accuracy = tf.reduce_mean(tf.cast(correct_pred,tf.float32),name='accuracy')\n",
    "\n",
    "#Initialize the variables\n",
    "init = tf.global_variables_initializer()"
   ]
  },
  {
   "cell_type": "markdown",
   "metadata": {},
   "source": [
    "<h2>Execute training</h2>"
   ]
  },
  {
   "cell_type": "code",
   "execution_count": 19,
   "metadata": {
    "scrolled": false
   },
   "outputs": [
    {
     "name": "stdout",
     "output_type": "stream",
     "text": [
      "0.7146411\n",
      "[[ True]\n",
      " [False]\n",
      " [False]\n",
      " [ True]]\n",
      "step 0, Accuracy= 0.500\n",
      "0.59417266\n",
      "[[ True]\n",
      " [ True]\n",
      " [ True]\n",
      " [False]]\n",
      "step 1000, Accuracy= 0.750\n",
      "0.16638735\n",
      "[[ True]\n",
      " [ True]\n",
      " [ True]\n",
      " [ True]]\n",
      "step 2000, Accuracy= 1.000\n",
      "0.05089415\n",
      "[[ True]\n",
      " [ True]\n",
      " [ True]\n",
      " [ True]]\n",
      "step 3000, Accuracy= 1.000\n",
      "0.027662884\n",
      "[[ True]\n",
      " [ True]\n",
      " [ True]\n",
      " [ True]]\n",
      "step 4000, Accuracy= 1.000\n",
      "0.01860083\n",
      "[[ True]\n",
      " [ True]\n",
      " [ True]\n",
      " [ True]]\n",
      "step 5000, Accuracy= 1.000\n",
      "0.013891155\n",
      "[[ True]\n",
      " [ True]\n",
      " [ True]\n",
      " [ True]]\n",
      "step 6000, Accuracy= 1.000\n",
      "0.011035433\n",
      "[[ True]\n",
      " [ True]\n",
      " [ True]\n",
      " [ True]]\n",
      "step 7000, Accuracy= 1.000\n",
      "0.009129606\n",
      "[[ True]\n",
      " [ True]\n",
      " [ True]\n",
      " [ True]]\n",
      "step 8000, Accuracy= 1.000\n",
      "0.0077718683\n",
      "[[ True]\n",
      " [ True]\n",
      " [ True]\n",
      " [ True]]\n",
      "step 9000, Accuracy= 1.000\n",
      "Training finished!\n"
     ]
    }
   ],
   "source": [
    "with tf.Session() as sess:\n",
    "    sess.run(init)\n",
    "\n",
    "    for i in range(num_iter):\n",
    "        sess.run(train_op, feed_dict={X_in: x, Y_hat: y})\n",
    "        if i % 1000 == 0:\n",
    "            # output\n",
    "            #temp = sess.run(output,feed_dict={X_in: x, Y_hat: y})\n",
    "            #print(temp)\n",
    "            #print('Output sigmoid, which we use to classify')\n",
    "            #print(sess.run(tf.nn.sigmoid(temp)))\n",
    "            #print('True Labels')\n",
    "            #print(y)\n",
    "            #print('Loss')\n",
    "            print(sess.run(loss, feed_dict={X_in: x, Y_hat: y}))\n",
    "            print(sess.run(correct_pred, feed_dict={X_in: x, Y_hat: y}))\n",
    "            acc = sess.run(accuracy,feed_dict={X_in: x, Y_hat: y})\n",
    "            print(\"step \"+str(i)+\", Accuracy= {:.3f}\".format(acc))\n",
    "    # its possible to generate a decision boundary by evaluating a dense grid\n",
    "    # this is easier than solving the nonlinear function\n",
    "    # honestly must be easier way to do this\n",
    "    \n",
    "    print(\"Training finished!\")\n",
    "    "
   ]
  },
  {
   "cell_type": "markdown",
   "metadata": {},
   "source": [
    "<h2>Plot</h2>"
   ]
  },
  {
   "cell_type": "code",
   "execution_count": 21,
   "metadata": {},
   "outputs": [],
   "source": [
    "x1 = np.linspace(0,1,1000)\n",
    "x2 = np.linspace(0,1,1000)\n",
    "X, Y = np.meshgrid(x1, x2)"
   ]
  },
  {
   "cell_type": "code",
   "execution_count": 24,
   "metadata": {},
   "outputs": [
    {
     "data": {
      "text/plain": [
       "(1000, 1000)"
      ]
     },
     "execution_count": 24,
     "metadata": {},
     "output_type": "execute_result"
    }
   ],
   "source": []
  },
  {
   "cell_type": "code",
   "execution_count": null,
   "metadata": {},
   "outputs": [],
   "source": []
  }
 ],
 "metadata": {
  "kernelspec": {
   "display_name": "Python 3",
   "language": "python",
   "name": "python3"
  },
  "language_info": {
   "codemirror_mode": {
    "name": "ipython",
    "version": 3
   },
   "file_extension": ".py",
   "mimetype": "text/x-python",
   "name": "python",
   "nbconvert_exporter": "python",
   "pygments_lexer": "ipython3",
   "version": "3.6.8"
  }
 },
 "nbformat": 4,
 "nbformat_minor": 2
}
