{
 "cells": [
  {
   "cell_type": "code",
   "execution_count": 20,
   "metadata": {},
   "outputs": [],
   "source": [
    "import tensorflow as tf\n",
    "import matplotlib.pyplot as plt\n",
    "import seaborn as sns\n",
    "# for tensorboard\n",
    "from datetime import datetime\n",
    "now = datetime.utcnow().strftime(\"%Y%m%d%H%M%S\")\n",
    "root_logdir = \"AND_logs\"\n",
    "logdir = \"{}/run-{}/\".format(root_logdir,now)\n",
    "#-------------------\n",
    "sns.set()\n",
    "old_v = tf.logging.get_verbosity()\n",
    "tf.logging.set_verbosity(tf.logging.ERROR)\n",
    "\n",
    "# D. Cashon"
   ]
  },
  {
   "cell_type": "markdown",
   "metadata": {},
   "source": [
    "<h2>Extract MNIST data</h2>"
   ]
  },
  {
   "cell_type": "code",
   "execution_count": 21,
   "metadata": {},
   "outputs": [
    {
     "name": "stdout",
     "output_type": "stream",
     "text": [
      "Extracting MNIST_data/train-images-idx3-ubyte.gz\n",
      "Extracting MNIST_data/train-labels-idx1-ubyte.gz\n",
      "Extracting MNIST_data/t10k-images-idx3-ubyte.gz\n",
      "Extracting MNIST_data/t10k-labels-idx1-ubyte.gz\n"
     ]
    }
   ],
   "source": [
    "from tensorflow.examples.tutorials.mnist import input_data\n",
    "#get mnist data, with one_hot encoding\n",
    "mnist = input_data.read_data_sets(\"MNIST_data/\",one_hot=True)\n",
    "#suppress warnings\n",
    "tf.logging.set_verbosity(old_v)"
   ]
  },
  {
   "cell_type": "code",
   "execution_count": 22,
   "metadata": {},
   "outputs": [],
   "source": [
    "train_imgs = mnist.train.images\n",
    "train_labels = mnist.train.labels\n",
    "test_imgs = mnist.test.images\n",
    "test_labels = mnist.test.labels"
   ]
  },
  {
   "cell_type": "markdown",
   "metadata": {},
   "source": [
    "<h2>Define hyperparameters</h2>"
   ]
  },
  {
   "cell_type": "code",
   "execution_count": 23,
   "metadata": {},
   "outputs": [],
   "source": [
    "num_iter = 1000 # to vary later\n",
    "lr = 0.01 # to vary later\n",
    "n_per_layer = [256, 128, 64]\n",
    "num_layers = len(n_per_layer)\n",
    "batch_size = 64"
   ]
  },
  {
   "cell_type": "markdown",
   "metadata": {},
   "source": [
    "<h2>Define placeholder and Variables</h2>"
   ]
  },
  {
   "cell_type": "code",
   "execution_count": 24,
   "metadata": {},
   "outputs": [],
   "source": [
    "# input layer is invariant\n",
    "tf.reset_default_graph()\n",
    "x_in = tf.placeholder(dtype=tf.float32, shape=[None, 784])\n",
    "\n",
    "# define true labels\n",
    "y_hat = tf.placeholder(dtype=tf.float32, shape=[None, 10])\n",
    "\n",
    "weights, biases = {}, {}\n",
    "for i in range(num_layers):\n",
    "    wkey = 'W' + str(i)\n",
    "    bkey = 'B' + str(i)\n",
    "    if i == 0:\n",
    "        # first layer, use input dim\n",
    "        weights[wkey] = tf.get_variable(wkey, shape=[784, n_per_layer[i]])\n",
    "        biases[bkey] = tf.get_variable(bkey, shape=[1,1])\n",
    "    else:\n",
    "        # other layers, use dim and dim-1\n",
    "        weights[wkey] = tf.get_variable(wkey, shape=[n_per_layer[i-1], n_per_layer[i]])\n",
    "        biases[bkey] = tf.get_variable(bkey, shape=[1,1])\n",
    "\n",
    "# add output layer weight and bias\n",
    "wkey_out = 'W' + str(num_layers)\n",
    "bkey_out = 'B' + str(num_layers)\n",
    "weights[wkey_out] = tf.get_variable(wkey_out, shape=[n_per_layer[num_layers-1], 10])\n",
    "biases[bkey_out] = tf.get_variable(bkey_out, shape=[1,1])\n"
   ]
  },
  {
   "cell_type": "markdown",
   "metadata": {},
   "source": [
    "<h2>Define neural network</h2>"
   ]
  },
  {
   "cell_type": "code",
   "execution_count": 25,
   "metadata": {},
   "outputs": [],
   "source": [
    "# for now sigmoid activation, but will try others too\n",
    "layers_out = []\n",
    "for i, wb in enumerate(list(zip(weights, biases))):\n",
    "    if i == 0:\n",
    "        # first layer, needs x_in\n",
    "        layers_out.append(tf.nn.sigmoid(tf.add(tf.matmul(x_in, weights[wb[0]]), biases[wb[1]])))\n",
    "    else:\n",
    "        layers_out.append(tf.nn.sigmoid(tf.add(tf.matmul(layers_out[i-1], weights[wb[0]]), biases[wb[1]])))\n",
    "logits = layers_out[-1]"
   ]
  },
  {
   "cell_type": "markdown",
   "metadata": {},
   "source": [
    "<h2>Define cost function and accuracy</h2>"
   ]
  },
  {
   "cell_type": "code",
   "execution_count": 27,
   "metadata": {},
   "outputs": [],
   "source": [
    "cost = tf.reduce_mean(tf.nn.softmax_cross_entropy_with_logits_v2(logits=logits, labels=y_hat))\n",
    "#define optimizer\n",
    "optimizer = tf.train.AdamOptimizer(learning_rate=lr)\n",
    "train_op = optimizer.minimize(cost)\n",
    "\n",
    "#compare the predicted labels with true labels\n",
    "correct_pred = tf.equal(tf.argmax(logits,1),tf.argmax(y_hat,1))\n",
    "\n",
    "#compute the accuracy by taking average\n",
    "accuracy = tf.reduce_mean(tf.cast(correct_pred,tf.float32),name='accuracy')\n",
    "\n",
    "# tensorboard\n",
    "file_writer = tf.summary.FileWriter(logdir,tf.get_default_graph())\n"
   ]
  },
  {
   "cell_type": "markdown",
   "metadata": {},
   "source": [
    "<h2>Execute training</h2>"
   ]
  },
  {
   "cell_type": "code",
   "execution_count": 28,
   "metadata": {},
   "outputs": [
    {
     "name": "stdout",
     "output_type": "stream",
     "text": [
      "Sample Test Accuracy \t 0.03125\n",
      "Accuracy \t 0.140625\n",
      "Cost \t2.2758887\n",
      "Sample Test Accuracy \t 0.796875\n",
      "Accuracy \t 0.796875\n",
      "Cost \t1.5730338\n",
      "Sample Test Accuracy \t 0.59375\n",
      "Accuracy \t 0.59375\n",
      "Cost \t1.6257637\n",
      "Sample Test Accuracy \t 0.71875\n",
      "Accuracy \t 0.734375\n",
      "Cost \t1.5781505\n",
      "Sample Test Accuracy \t 0.78125\n",
      "Accuracy \t 0.828125\n",
      "Cost \t1.6006204\n",
      "Sample Test Accuracy \t 0.9375\n",
      "Accuracy \t 0.890625\n",
      "Cost \t1.5633004\n",
      "Sample Test Accuracy \t 0.96875\n",
      "Accuracy \t 0.96875\n",
      "Cost \t1.492963\n",
      "Sample Test Accuracy \t 0.953125\n",
      "Accuracy \t 0.96875\n",
      "Cost \t1.4981754\n",
      "Sample Test Accuracy \t 0.953125\n",
      "Accuracy \t 0.953125\n",
      "Cost \t1.5098767\n",
      "Sample Test Accuracy \t 0.96875\n",
      "Accuracy \t nan\n",
      "Cost \tnan\n",
      "CPU times: user 1.5 s, sys: 191 ms, total: 1.69 s\n",
      "Wall time: 1.68 s\n"
     ]
    },
    {
     "data": {
      "image/png": "[encoded data removed]",
      "text/plain": [
       "<Figure size 432x288 with 1 Axes>"
      ]
     },
     "metadata": {},
     "output_type": "display_data"
    }
   ],
   "source": [
    "%%time\n",
    "init = tf.global_variables_initializer()\n",
    "epoch, train_acc, test_acc = [], [], []\n",
    "with tf.Session() as sess:\n",
    "    sess.run(init)\n",
    "    for i in range(num_iter):\n",
    "        # assuming we dont get to the end before num_epochs finishes\n",
    "        batch_start = i * batch_size\n",
    "        batch_end = i * batch_size + batch_size\n",
    "        # train\n",
    "        sess.run(train_op, feed_dict={x_in: train_imgs[batch_start:batch_end, :], y_hat: train_labels[batch_start:batch_end, :]})\n",
    "        if i % 100 == 0:\n",
    "            # print accuracy\n",
    "            acc = sess.run(accuracy, feed_dict={x_in: train_imgs[batch_start:batch_end, :], y_hat: train_labels[batch_start:batch_end, :]})\n",
    "            cst = sess.run(cost, feed_dict={x_in: train_imgs[batch_start:batch_end, :], y_hat: train_labels[batch_start:batch_end, :]})\n",
    "            test_a = sess.run(accuracy, feed_dict={x_in: test_imgs[batch_size:2*batch_size, :], y_hat: test_labels[batch_size:2*batch_size, :]})\n",
    "            print('Sample Test Accuracy \\t ' + str(test_a))\n",
    "            print('Accuracy \\t ' + str(acc))\n",
    "            print('Cost \\t' + str(cst))\n",
    "            epoch.append(i)\n",
    "            train_acc.append(acc)\n",
    "            test_acc.append(test_a)\n",
    "file_writer.close()\n",
    "plt.figure(1)\n",
    "plt.plot(epoch, train_acc, label='Train')\n",
    "plt.plot(epoch, test_acc, label='Test')\n",
    "plt.grid(True)\n",
    "plt.xlabel('Epoch (sampled per 100)')\n",
    "plt.ylabel('Accuracy')\n",
    "plt.ylim(0,1)\n",
    "plt.legend()"
   ]
  },
  {
   "cell_type": "markdown",
   "metadata": {},
   "source": [
    "<h2>Your results</h2>"
   ]
  },
  {
   "cell_type": "markdown",
   "metadata": {},
   "source": [
    "I wrote a function to vary parameters and then a python script to create the visualizations. Please see:\n",
    "\n",
    "HW1_mnist_vary.py\n",
    "HW1_mnist_function.py\n",
    "\n"
   ]
  },
  {
   "cell_type": "code",
   "execution_count": null,
   "metadata": {},
   "outputs": [],
   "source": []
  }
 ],
 "metadata": {
  "kernelspec": {
   "display_name": "Python 3",
   "language": "python",
   "name": "python3"
  },
  "language_info": {
   "codemirror_mode": {
    "name": "ipython",
    "version": 3
   },
   "file_extension": ".py",
   "mimetype": "text/x-python",
   "name": "python",
   "nbconvert_exporter": "python",
   "pygments_lexer": "ipython3",
   "version": "3.6.8"
  }
 },
 "nbformat": 4,
 "nbformat_minor": 2
}
