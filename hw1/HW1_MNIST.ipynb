{
 "cells": [
  {
   "cell_type": "code",
   "execution_count": 1,
   "metadata": {},
   "outputs": [],
   "source": [
    "import tensorflow as tf\n",
    "import matplotlib.pyplot as plt\n",
    "import seaborn as sns\n",
    "sns.set()\n",
    "old_v = tf.logging.get_verbosity()\n",
    "tf.logging.set_verbosity(tf.logging.ERROR)\n",
    "\n",
    "# D. Cashon\n",
    "# run on CUDA enabled tflow with a 1050Ti\n",
    "# may take forever if not GPU bound"
   ]
  },
  {
   "cell_type": "markdown",
   "metadata": {},
   "source": [
    "<h2>Extract MNIST data</h2>"
   ]
  },
  {
   "cell_type": "code",
   "execution_count": 2,
   "metadata": {},
   "outputs": [
    {
     "name": "stdout",
     "output_type": "stream",
     "text": [
      "Extracting MNIST_data/train-images-idx3-ubyte.gz\n",
      "Extracting MNIST_data/train-labels-idx1-ubyte.gz\n",
      "Extracting MNIST_data/t10k-images-idx3-ubyte.gz\n",
      "Extracting MNIST_data/t10k-labels-idx1-ubyte.gz\n"
     ]
    }
   ],
   "source": [
    "from tensorflow.examples.tutorials.mnist import input_data\n",
    "#get mnist data, with one_hot encoding\n",
    "mnist = input_data.read_data_sets(\"MNIST_data/\",one_hot=True)\n",
    "#suppress warnings\n",
    "tf.logging.set_verbosity(old_v)"
   ]
  },
  {
   "cell_type": "code",
   "execution_count": 3,
   "metadata": {},
   "outputs": [],
   "source": [
    "train_imgs = mnist.train.images\n",
    "train_labels = mnist.train.labels\n",
    "test_imgs = mnist.test.images\n",
    "test_labels = mnist.test.labels"
   ]
  },
  {
   "cell_type": "markdown",
   "metadata": {},
   "source": [
    "<h2>Define hyperparameters</h2>"
   ]
  },
  {
   "cell_type": "code",
   "execution_count": 4,
   "metadata": {},
   "outputs": [],
   "source": [
    "num_epochs = 1000 # to vary later\n",
    "lr = 0.001 # to vary later\n",
    "n_per_layer = [256, 128, 64]\n",
    "num_layers = len(n_per_layer)\n",
    "batch_size = 64"
   ]
  },
  {
   "cell_type": "markdown",
   "metadata": {},
   "source": [
    "<h2>Define placeholder and Variables</h2>"
   ]
  },
  {
   "cell_type": "code",
   "execution_count": 5,
   "metadata": {},
   "outputs": [
    {
     "name": "stdout",
     "output_type": "stream",
     "text": [
      "WARNING:tensorflow:From C:\\Users\\dcash\\Anaconda3\\envs\\neural_nets\\lib\\site-packages\\tensorflow\\python\\framework\\op_def_library.py:263: colocate_with (from tensorflow.python.framework.ops) is deprecated and will be removed in a future version.\n",
      "Instructions for updating:\n",
      "Colocations handled automatically by placer.\n"
     ]
    }
   ],
   "source": [
    "# input layer is invariant\n",
    "tf.reset_default_graph()\n",
    "x_in = tf.placeholder(dtype=tf.float32, shape=[None, 784])\n",
    "\n",
    "# define true labels\n",
    "y_hat = tf.placeholder(dtype=tf.float32, shape=[None, 10])\n",
    "\n",
    "weights, biases = {}, {}\n",
    "for i in range(num_layers):\n",
    "    wkey = 'W' + str(i)\n",
    "    bkey = 'B' + str(i)\n",
    "    if i == 0:\n",
    "        # first layer, use input dim\n",
    "        weights[wkey] = tf.get_variable(wkey, shape=[784, n_per_layer[i]])\n",
    "        biases[bkey] = tf.get_variable(bkey, shape=[1,1])\n",
    "    else:\n",
    "        # other layers, use dim and dim-1\n",
    "        weights[wkey] = tf.get_variable(wkey, shape=[n_per_layer[i-1], n_per_layer[i]])\n",
    "        biases[bkey] = tf.get_variable(bkey, shape=[1,1])\n",
    "\n",
    "# add output layer weight and bias\n",
    "wkey_out = 'W' + str(num_layers)\n",
    "bkey_out = 'B' + str(num_layers)\n",
    "weights[wkey_out] = tf.get_variable(wkey_out, shape=[n_per_layer[num_layers-1], 10])\n",
    "biases[bkey_out] = tf.get_variable(bkey_out, shape=[1,1])\n"
   ]
  },
  {
   "cell_type": "markdown",
   "metadata": {},
   "source": [
    "<h2>Define neural network</h2>"
   ]
  },
  {
   "cell_type": "code",
   "execution_count": 6,
   "metadata": {},
   "outputs": [],
   "source": [
    "# for now sigmoid activation, but will try others too\n",
    "layers_out = []\n",
    "for i, wb in enumerate(list(zip(weights, biases))):\n",
    "    if i == 0:\n",
    "        # first layer, needs x_in\n",
    "        layers_out.append(tf.nn.sigmoid(tf.add(tf.matmul(x_in, weights[wb[0]]), biases[wb[1]])))\n",
    "    else:\n",
    "        layers_out.append(tf.nn.sigmoid(tf.add(tf.matmul(layers_out[i-1], weights[wb[0]]), biases[wb[1]])))\n",
    "logits = layers_out[-1]"
   ]
  },
  {
   "cell_type": "markdown",
   "metadata": {},
   "source": [
    "<h2>Define cost function and accuracy</h2>"
   ]
  },
  {
   "cell_type": "code",
   "execution_count": 7,
   "metadata": {},
   "outputs": [],
   "source": [
    "cost = tf.reduce_mean(tf.nn.softmax_cross_entropy_with_logits_v2(logits=logits, labels=y_hat))\n",
    "#define optimizer\n",
    "optimizer = tf.train.AdamOptimizer(learning_rate=lr)\n",
    "train_op = optimizer.minimize(cost)\n",
    "\n",
    "#compare the predicted labels with true labels\n",
    "correct_pred = tf.equal(tf.argmax(logits,1),tf.argmax(y_hat,1))\n",
    "\n",
    "#compute the accuracy by taking average\n",
    "accuracy = tf.reduce_mean(tf.cast(correct_pred,tf.float32),name='accuracy')\n",
    "\n",
    "#Initialize the variables"
   ]
  },
  {
   "cell_type": "markdown",
   "metadata": {},
   "source": [
    "<h2>Execute training</h2>"
   ]
  },
  {
   "cell_type": "code",
   "execution_count": 8,
   "metadata": {},
   "outputs": [
    {
     "name": "stdout",
     "output_type": "stream",
     "text": [
      "Sample Test Accuracy \t 0.109375\n",
      "Accuracy \t 0.109375\n",
      "Cost \t2.2888012\n",
      "Sample Test Accuracy \t 0.6875\n",
      "Accuracy \t 0.625\n",
      "Cost \t1.9268458\n",
      "Sample Test Accuracy \t 0.8125\n",
      "Accuracy \t 0.765625\n",
      "Cost \t1.8056707\n",
      "Sample Test Accuracy \t 0.796875\n",
      "Accuracy \t 0.75\n",
      "Cost \t1.730434\n",
      "Sample Test Accuracy \t 0.828125\n",
      "Accuracy \t 0.8125\n",
      "Cost \t1.728391\n",
      "Sample Test Accuracy \t 0.890625\n",
      "Accuracy \t 0.828125\n",
      "Cost \t1.6609378\n",
      "Sample Test Accuracy \t 0.9375\n",
      "Accuracy \t 0.9375\n",
      "Cost \t1.5869373\n",
      "Sample Test Accuracy \t 0.9375\n",
      "Accuracy \t 0.875\n",
      "Cost \t1.5902412\n",
      "Sample Test Accuracy \t 0.890625\n",
      "Accuracy \t 0.875\n",
      "Cost \t1.589408\n",
      "Sample Test Accuracy \t 0.859375\n",
      "Accuracy \t nan\n",
      "Cost \tnan\n",
      "Wall time: 4.13 s\n"
     ]
    },
    {
     "data": {
      "image/png": "[encoded data removed]",
      "text/plain": [
       "<Figure size 432x288 with 1 Axes>"
      ]
     },
     "metadata": {
      "needs_background": "light"
     },
     "output_type": "display_data"
    }
   ],
   "source": [
    "%%time\n",
    "init = tf.global_variables_initializer()\n",
    "epoch, train_acc, test_acc = [], [], []\n",
    "with tf.Session() as sess:\n",
    "    sess.run(init)\n",
    "    for i in range(num_epochs):\n",
    "        # assuming we dont get to the end before num_epochs finishes\n",
    "        batch_start = i * batch_size\n",
    "        batch_end = i * batch_size + batch_size\n",
    "        # train\n",
    "        sess.run(train_op, feed_dict={x_in: train_imgs[batch_start:batch_end, :], y_hat: train_labels[batch_start:batch_end, :]})\n",
    "        if i % 100 == 0:\n",
    "            # print accuracy\n",
    "            acc = sess.run(accuracy, feed_dict={x_in: train_imgs[batch_start:batch_end, :], y_hat: train_labels[batch_start:batch_end, :]})\n",
    "            yolo = sess.run(cost, feed_dict={x_in: train_imgs[batch_start:batch_end, :], y_hat: train_labels[batch_start:batch_end, :]})\n",
    "            yolo2 = sess.run(accuracy, feed_dict={x_in: test_imgs[batch_size:2*batch_size, :], y_hat: test_labels[batch_size:2*batch_size, :]})\n",
    "            print('Sample Test Accuracy \\t ' + str(yolo2))\n",
    "            print('Accuracy \\t ' + str(acc))\n",
    "            print('Cost \\t' + str(yolo))\n",
    "            epoch.append(i)\n",
    "            train_acc.append(acc)\n",
    "            test_acc.append(yolo2)\n",
    "            \n",
    "plt.figure(1)\n",
    "plt.plot(epoch, train_acc, label='Train')\n",
    "plt.plot(epoch, test_acc, label='Test')\n",
    "plt.grid(True)\n",
    "plt.xlabel('Epoch (sampled per 100)')\n",
    "plt.ylabel('Accuracy')\n",
    "plt.ylim(0,1)"
   ]
  },
  {
   "cell_type": "markdown",
   "metadata": {},
   "source": [
    "<h2>Your results</h2>"
   ]
  },
  {
   "cell_type": "code",
   "execution_count": null,
   "metadata": {},
   "outputs": [],
   "source": []
  }
 ],
 "metadata": {
  "kernelspec": {
   "display_name": "Python 3",
   "language": "python",
   "name": "python3"
  },
  "language_info": {
   "codemirror_mode": {
    "name": "ipython",
    "version": 3
   },
   "file_extension": ".py",
   "mimetype": "text/x-python",
   "name": "python",
   "nbconvert_exporter": "python",
   "pygments_lexer": "ipython3",
   "version": "3.6.8"
  }
 },
 "nbformat": 4,
 "nbformat_minor": 2
}
